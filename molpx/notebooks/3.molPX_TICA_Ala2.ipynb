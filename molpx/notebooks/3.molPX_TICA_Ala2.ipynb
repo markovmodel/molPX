{
 "cells": [
  {
   "cell_type": "markdown",
   "metadata": {},
   "source": [
    "# molPX Di-Ala example\n",
    "<pre> \n",
    "Guillermo Pérez-Hernández  guille.perez@fu-berlin.de \n",
    "</pre>\n",
    "   \n",
    "In this notebook we will be using a trajectory of Di-Ala-peptide to easily identify conformations in the Ramachandran plot."
   ]
  },
  {
   "cell_type": "code",
   "execution_count": 1,
   "metadata": {
    "collapsed": true,
    "scrolled": true
   },
   "outputs": [],
   "source": [
    "from os.path import exists\n",
    "import molpx\n",
    "from matplotlib import pyplot as plt\n",
    "import pyemma\n",
    "import numpy as np"
   ]
  },
  {
   "cell_type": "markdown",
   "metadata": {},
   "source": [
    "## Start from files on disk"
   ]
  },
  {
   "cell_type": "code",
   "execution_count": 2,
   "metadata": {
    "collapsed": true
   },
   "outputs": [],
   "source": [
    "top = molpx._molpxdir(join='notebooks/data/ala2.pdb')\n",
    "# What data do we  have?\n",
    "if exists('/group/ag_cmb/scratch/gph82/Di-Ala-nbdata/ala2.dcd'):\n",
    "    MD_trajfiles = ['/group/ag_cmb/scratch/gph82/Di-Ala-nbdata/ala2.dcd'] #long trajectory\n",
    "elif exists('/home/guille/ala2.dcd'):\n",
    "    MD_trajfiles = ['/home/guille/ala2.dcd'] # extra for Stralsund\n",
    "else:\n",
    "    MD_trajfiles = [molpx._molpxdir(join='notebooks/data/ala2.mini.xtc')] #short trajectory"
   ]
  },
  {
   "cell_type": "markdown",
   "metadata": {},
   "source": [
    "## Featurize to Ramachandran $(\\phi,\\psi)$-pairs with `PyEMMA`"
   ]
  },
  {
   "cell_type": "code",
   "execution_count": 3,
   "metadata": {
    "collapsed": true
   },
   "outputs": [],
   "source": [
    "feat = pyemma.coordinates.featurizer(top)\n",
    "feat.add_backbone_torsions()\n",
    "src  = pyemma.coordinates.source(MD_trajfiles, features=feat)\n",
    "Y = src.get_output()"
   ]
  },
  {
   "cell_type": "markdown",
   "metadata": {},
   "source": [
    "## Visualize a FES and the molecular structures behind it\n",
    "Execute the following cell and click either on the FES or on the slidebar"
   ]
  },
  {
   "cell_type": "code",
   "execution_count": 4,
   "metadata": {
    "scrolled": false
   },
   "outputs": [
    {
     "data": {
      "application/vnd.jupyter.widget-view+json": {
       "model_id": "c0116accc78044a19e78dc903d7a6714",
       "version_major": 2,
       "version_minor": 0
      },
      "text/plain": [
       "A Jupyter Widget"
      ]
     },
     "metadata": {},
     "output_type": "display_data"
    },
    {
     "name": "stdout",
     "output_type": "stream",
     "text": [
      "22-05-18 18:03:14 pyemma.coordinates.clustering.kmeans.KmeansClustering[1] INFO     Cluster centers converged after 9 steps.\n",
      "\r"
     ]
    },
    {
     "data": {
      "application/vnd.jupyter.widget-view+json": {
       "model_id": "01397594f745427b80e6fe228811a7b9",
       "version_major": 2,
       "version_minor": 0
      },
      "text/plain": [
       "A Jupyter Widget"
      ]
     },
     "metadata": {},
     "output_type": "display_data"
    }
   ],
   "source": [
    "mpx_widget_box = molpx.visualize.FES(MD_trajfiles,\n",
    "                                     top,\n",
    "                                     Y,\n",
    "                                     #proj_idxs=[1],\n",
    "                                     nbins=50,       \n",
    "                                     proj_labels=['$\\phi$',\n",
    "                                                  '$\\psi$'],\n",
    "                                     atom_selection=\"symbol != H\",\n",
    "                                     #n_overlays=5,\n",
    "                                     #sticky=True, \n",
    "                                     #color_list='random'\n",
    "                                    )\n",
    "mpx_widget_box"
   ]
  },
  {
   "cell_type": "markdown",
   "metadata": {},
   "source": [
    "## Visualize trajectories, FES and molecular structures"
   ]
  },
  {
   "cell_type": "code",
   "execution_count": 5,
   "metadata": {
    "scrolled": false
   },
   "outputs": [
    {
     "data": {
      "application/vnd.jupyter.widget-view+json": {
       "model_id": "eab14edbbedd4e938b0b6bcaff4f8a39",
       "version_major": 2,
       "version_minor": 0
      },
      "text/plain": [
       "A Jupyter Widget"
      ]
     },
     "metadata": {},
     "output_type": "display_data"
    },
    {
     "name": "stdout",
     "output_type": "stream",
     "text": [
      "22-05-18 17:57:00 pyemma.coordinates.clustering.kmeans.KmeansClustering[10] INFO     Cluster centers converged after 8 steps.\n",
      "\r"
     ]
    },
    {
     "data": {
      "application/vnd.jupyter.widget-view+json": {
       "model_id": "fd8492f500e3491d875b01377127d2a4",
       "version_major": 2,
       "version_minor": 0
      },
      "text/plain": [
       "A Jupyter Widget"
      ]
     },
     "metadata": {},
     "output_type": "display_data"
    }
   ],
   "source": [
    "from molpx import visualize, _linkutils\n",
    "from imp import reload\n",
    "reload(visualize)\n",
    "reload(_linkutils)\n",
    "mpl_wdg_box = molpx.visualize.traj(MD_trajfiles,  \n",
    "                                   top, \n",
    "                                   Y,\n",
    "                                   plot_FES = True,\n",
    "                                   #dt = dt*1e-6, tunits='ms',\n",
    "                                   max_frames=10000,\n",
    "                                   proj_idxs=[0, 1],\n",
    "                                   panel_height=2, \n",
    "                                   proj_labels=['$\\phi$', '$\\psi$']\n",
    "                          )\n",
    "mpl_wdg_box"
   ]
  },
  {
   "cell_type": "markdown",
   "metadata": {},
   "source": [
    "# Paths samples along the different projections (=axis)"
   ]
  },
  {
   "cell_type": "code",
   "execution_count": 6,
   "metadata": {},
   "outputs": [
    {
     "data": {
      "application/vnd.jupyter.widget-view+json": {
       "model_id": "f0a39610ce0941eabac5fe0b7e476ae0",
       "version_major": 2,
       "version_minor": 0
      },
      "text/plain": [
       "A Jupyter Widget"
      ]
     },
     "metadata": {},
     "output_type": "display_data"
    },
    {
     "name": "stdout",
     "output_type": "stream",
     "text": [
      "22-05-18 17:57:13 pyemma.coordinates.clustering.kmeans.KmeansClustering[19] INFO     Cluster centers converged after 7 steps.\n",
      "\r"
     ]
    },
    {
     "data": {
      "application/vnd.jupyter.widget-view+json": {
       "model_id": "ee3c7af803c84881aac36bf04b173caf",
       "version_major": 2,
       "version_minor": 0
      },
      "text/plain": [
       "A Jupyter Widget"
      ]
     },
     "metadata": {},
     "output_type": "display_data"
    },
    {
     "name": "stdout",
     "output_type": "stream",
     "text": [
      "22-05-18 17:57:25 pyemma.coordinates.clustering.kmeans.KmeansClustering[24] INFO     Cluster centers converged after 6 steps.\n",
      "\r"
     ]
    }
   ],
   "source": [
    "paths_dict, idata = molpx.generate.projection_paths(MD_trajfiles, \n",
    "                                                    top, \n",
    "                                                    Y, \n",
    "                                                    n_points=50,\n",
    "                                                    proj_idxs=[0,1],\n",
    "                                                    n_projs=3,\n",
    "                                                    proj_dim = 3, \n",
    "                                                    verbose=False, \n",
    "                                        )"
   ]
  },
  {
   "cell_type": "code",
   "execution_count": 7,
   "metadata": {
    "collapsed": true
   },
   "outputs": [],
   "source": [
    "# Choose the coordinate and the type of path\n",
    "coord = 1\n",
    "path_type = 'min_rmsd'\n",
    "#path_type = 'min_disp'\n",
    "igeom = paths_dict[coord][path_type][\"geom\"]\n",
    "ipath = paths_dict[coord][path_type][\"proj\"]\n",
    "\n",
    "# Choose the proj_idxs for the path and the FES \n",
    "# to be shown\n",
    "proj_idxs = [0,1]"
   ]
  },
  {
   "cell_type": "code",
   "execution_count": 8,
   "metadata": {
    "scrolled": false
   },
   "outputs": [
    {
     "name": "stderr",
     "output_type": "stream",
     "text": [
      "/home/guille/miniconda3/lib/python3.6/site-packages/ipykernel_launcher.py:4: RuntimeWarning: divide by zero encountered in log\n",
      "  after removing the cwd from sys.path.\n"
     ]
    },
    {
     "data": {
      "application/vnd.jupyter.widget-view+json": {
       "model_id": "fd40a5458fb34089a98b011394ddd2ae",
       "version_major": 2,
       "version_minor": 0
      },
      "text/plain": [
       "A Jupyter Widget"
      ]
     },
     "metadata": {},
     "output_type": "display_data"
    }
   ],
   "source": [
    "plt.ioff() # Turn of interactive plotting\n",
    "plt.figure(figsize=(4,4))\n",
    "h, (x,y) = np.histogramdd(np.vstack(Y)[:,proj_idxs], bins=50)\n",
    "plt.contourf(x[:-1], y[:-1], -np.log(h.T), alpha=.50)\n",
    "plt.ion()\n",
    "\n",
    "linked_NGL_wdg, linked_ax_widget = molpx.visualize.sample(ipath[:,proj_idxs], \n",
    "                                                          igeom,  \n",
    "                                                          plt.gca(), \n",
    "                                                          clear_lines=True,\n",
    "                                                          n_smooth = 2, \n",
    "                                                          plot_path=True,  \n",
    "                                                          #radius=True,\n",
    "                                                         )\n",
    "linked_NGL_wdg._set_size('4in', '4in')\n",
    "from ipywidgets import HBox\n",
    "HBox([linked_NGL_wdg, linked_ax_widget.canvas])\n"
   ]
  },
  {
   "cell_type": "markdown",
   "metadata": {
    "collapsed": true
   },
   "source": [
    "# Let's do TICA and try to look a the correlations in a TICA analysis"
   ]
  },
  {
   "cell_type": "code",
   "execution_count": 9,
   "metadata": {},
   "outputs": [
    {
     "name": "stdout",
     "output_type": "stream",
     "text": [
      "22-05-18 17:57:50 pyemma.coordinates.data.featurization.featurizer.MDFeaturizer[30] WARNING  The 1D arrays input for add_distances() have been sorted, and index duplicates have been eliminated.\n",
      "Check the output of describe() to see the actual order of the features\n"
     ]
    }
   ],
   "source": [
    "feat = pyemma.coordinates.featurizer(top)\n",
    "#feat.add_backbone_torsions(cossin=True)\n",
    "feat.add_distances(feat.topology.select('symbol != H'))\n",
    "src  = pyemma.coordinates.source(MD_trajfiles, features=feat)\n",
    "tica = pyemma.coordinates.tica(src, lag=np.int(src.trajectory_lengths()/3000))\n",
    "Y_tica = tica.get_output()"
   ]
  },
  {
   "cell_type": "code",
   "execution_count": 10,
   "metadata": {},
   "outputs": [
    {
     "data": {
      "application/vnd.jupyter.widget-view+json": {
       "model_id": "6aa5805b774f4d6581dccbf2a42aa208",
       "version_major": 2,
       "version_minor": 0
      },
      "text/plain": [
       "A Jupyter Widget"
      ]
     },
     "metadata": {},
     "output_type": "display_data"
    },
    {
     "name": "stdout",
     "output_type": "stream",
     "text": [
      "22-05-18 17:57:54 pyemma.coordinates.clustering.kmeans.KmeansClustering[34] INFO     Cluster centers converged after 10 steps.\n",
      "\r"
     ]
    },
    {
     "data": {
      "application/vnd.jupyter.widget-view+json": {
       "model_id": "13dfdb4c0d834ba19fcf8f51b7a358d6",
       "version_major": 2,
       "version_minor": 0
      },
      "text/plain": [
       "A Jupyter Widget"
      ]
     },
     "metadata": {},
     "output_type": "display_data"
    }
   ],
   "source": [
    "mpx_wdg_box = molpx.visualize.FES(MD_trajfiles,\n",
    "                                  top,                                                       \n",
    "                                  Y_tica,                                                       \n",
    "                                  n_overlays=5,\n",
    "                                  atom_selection='backbone',\n",
    "                                  #sticky=True,\n",
    "                                  #color_list='rand'\n",
    "          )\n",
    "mpx_wdg_box"
   ]
  },
  {
   "cell_type": "code",
   "execution_count": 11,
   "metadata": {},
   "outputs": [
    {
     "data": {
      "application/vnd.jupyter.widget-view+json": {
       "model_id": "7f7190815ded4204b5c686eff467746b",
       "version_major": 2,
       "version_minor": 0
      },
      "text/plain": [
       "A Jupyter Widget"
      ]
     },
     "metadata": {},
     "output_type": "display_data"
    },
    {
     "name": "stdout",
     "output_type": "stream",
     "text": [
      "22-05-18 17:58:17 pyemma.coordinates.clustering.kmeans.KmeansClustering[43] INFO     Cluster centers converged after 8 steps.\n",
      "\r"
     ]
    },
    {
     "data": {
      "application/vnd.jupyter.widget-view+json": {
       "model_id": "4f755a7aa0cf4b69b633789b2c0d3bad",
       "version_major": 2,
       "version_minor": 0
      },
      "text/plain": [
       "A Jupyter Widget"
      ]
     },
     "metadata": {},
     "output_type": "display_data"
    }
   ],
   "source": [
    "mpx_wdg_box = molpx.visualize.traj(MD_trajfiles,     \n",
    "                                  top,                                                                                                                              \n",
    "                                  Y_tica,                                        \n",
    "                                  plot_FES = True,                                        \n",
    "                                  #dt = dt*1e-6, tunits='ms',                                           \n",
    "                                  max_frames=10000,\n",
    "                                  #proj_idxs=[0,1],\n",
    "                                  panel_height=2,                                              \n",
    "                                  projection=tica\n",
    "                                  )\n",
    "mpx_wdg_box"
   ]
  },
  {
   "cell_type": "code",
   "execution_count": 13,
   "metadata": {},
   "outputs": [
    {
     "data": {
      "application/vnd.jupyter.widget-view+json": {
       "model_id": "05acfdfb30ed47a7ace60534c7a9384a",
       "version_major": 2,
       "version_minor": 0
      },
      "text/plain": [
       "A Jupyter Widget"
      ]
     },
     "metadata": {},
     "output_type": "display_data"
    },
    {
     "name": "stdout",
     "output_type": "stream",
     "text": [
      "22-05-18 17:59:02 pyemma.coordinates.clustering.kmeans.KmeansClustering[65] INFO     Cluster centers converged after 6 steps.\n",
      "\r"
     ]
    },
    {
     "data": {
      "application/vnd.jupyter.widget-view+json": {
       "model_id": "298bcecb731d4c80b4c45149d005faf5",
       "version_major": 2,
       "version_minor": 0
      },
      "text/plain": [
       "A Jupyter Widget"
      ]
     },
     "metadata": {},
     "output_type": "display_data"
    },
    {
     "name": "stdout",
     "output_type": "stream",
     "text": [
      "22-05-18 17:59:13 pyemma.coordinates.clustering.kmeans.KmeansClustering[74] INFO     Cluster centers converged after 6 steps.\n",
      "\r"
     ]
    }
   ],
   "source": [
    "paths_dict, idata = molpx.generate.projection_paths(MD_trajfiles, \n",
    "                                                    top, \n",
    "                                                    Y_tica, \n",
    "                                                    n_points=50,\n",
    "                                                    proj_idxs=[0,1],\n",
    "                                                    n_projs=2,\n",
    "                                                    proj_dim = 2, \n",
    "                                                    verbose=False, \n",
    "                                        )"
   ]
  },
  {
   "cell_type": "code",
   "execution_count": 14,
   "metadata": {
    "collapsed": true
   },
   "outputs": [],
   "source": [
    "# Choose the coordinate and the type of path\n",
    "coord = 0\n",
    "path_type = 'min_rmsd'\n",
    "#path_type = 'min_disp'\n",
    "igeom = paths_dict[coord][path_type][\"geom\"]\n",
    "ipath = paths_dict[coord][path_type][\"proj\"]\n",
    "\n",
    "# Choose the proj_idxs for the path and the FES \n",
    "# to be shown\n",
    "proj_idxs = [0,1]"
   ]
  },
  {
   "cell_type": "code",
   "execution_count": 15,
   "metadata": {},
   "outputs": [
    {
     "data": {
      "application/vnd.jupyter.widget-view+json": {
       "model_id": "384eba18599541d3b5d0ae4f6b0bcbe9",
       "version_major": 2,
       "version_minor": 0
      },
      "text/plain": [
       "A Jupyter Widget"
      ]
     },
     "metadata": {},
     "output_type": "display_data"
    },
    {
     "name": "stderr",
     "output_type": "stream",
     "text": [
      "/home/guille/miniconda3/lib/python3.6/site-packages/ipykernel_launcher.py:3: RuntimeWarning: divide by zero encountered in log\n",
      "  This is separate from the ipykernel package so we can avoid doing imports until\n",
      "WARNING:root:DEPRECATED: Please use 'center' method\n"
     ]
    },
    {
     "data": {
      "application/vnd.jupyter.widget-view+json": {
       "model_id": "db84a4cd262049f99fcf0968733740d3",
       "version_major": 2,
       "version_minor": 0
      },
      "text/plain": [
       "A Jupyter Widget"
      ]
     },
     "metadata": {},
     "output_type": "display_data"
    }
   ],
   "source": [
    "plt.figure(figsize=(4,4))\n",
    "h, (x,y) = np.histogramdd(np.vstack(Y_tica)[:,proj_idxs], bins=50)\n",
    "plt.contourf(x[:-1], y[:-1], -np.log(h.T), alpha=.50)\n",
    "\n",
    "linked_wdg, axes_widget = molpx.visualize.sample(ipath[:,proj_idxs], \n",
    "                                    igeom,\n",
    "                                    plt.gca(), \n",
    "                                    clear_lines=True,\n",
    "                                    n_smooth = 1, \n",
    "                                    plot_path=True,   \n",
    "                                   )\n",
    "# You can even choose to add the correlations a posteriori                                         \n",
    "molpx.visualize.correlations(tica, widget=linked_wdg, proj_idxs=0)\n",
    "linked_wdg.center_view()\n",
    "linked_wdg"
   ]
  }
 ],
 "metadata": {
  "anaconda-cloud": {},
  "kernelspec": {
   "display_name": "Python 3",
   "language": "python",
   "name": "python3"
  },
  "language_info": {
   "codemirror_mode": {
    "name": "ipython",
    "version": 3
   },
   "file_extension": ".py",
   "mimetype": "text/x-python",
   "name": "python",
   "nbconvert_exporter": "python",
   "pygments_lexer": "ipython3",
   "version": "3.6.2"
  },
  "widgets": {
   "state": {
    "02868d470d3944fcb174115083470e5e": {
     "views": [
      {
       "cell_index": 21
      }
     ]
    },
    "071ea460c2ea4467b9acf661aff8988e": {
     "views": [
      {
       "cell_index": 13
      }
     ]
    },
    "3795c55470a641b08e47b3a4715f09b3": {
     "views": [
      {
       "cell_index": 9
      }
     ]
    },
    "3e2bc666001c439d963b710a688de7f8": {
     "views": [
      {
       "cell_index": 24
      }
     ]
    },
    "482ef5b6c7f844b087e84587dfff2b49": {
     "views": [
      {
       "cell_index": 7
      },
      {
       "cell_index": 7
      }
     ]
    },
    "5213de86c14948419c77d639e62c5ca5": {
     "views": [
      {
       "cell_index": 20
      },
      {
       "cell_index": 20
      }
     ]
    },
    "59e2ff74d4f7475286f82746ec8bba10": {
     "views": [
      {
       "cell_index": 7
      }
     ]
    },
    "66dc7c93eb5e4fe5a8605413b30738c8": {
     "views": [
      {
       "cell_index": 24
      }
     ]
    },
    "85603629178245a99aac8e903cf08873": {
     "views": [
      {
       "cell_index": 20
      }
     ]
    },
    "9161c6c967254129b1254cf7aa7444bc": {
     "views": [
      {
       "cell_index": 20
      }
     ]
    },
    "950a0e252af64f678803334ced13c584": {
     "views": [
      {
       "cell_index": 7
      }
     ]
    },
    "b64f886d02f1404bbcae8b03dbe849e5": {
     "views": [
      {
       "cell_index": 9
      }
     ]
    },
    "cd20af50a3fe4a27892b154f32b2858a": {
     "views": [
      {
       "cell_index": 17
      }
     ]
    },
    "e1c43d98fc1646259e74f5ad635b41d0": {
     "views": [
      {
       "cell_index": 13
      }
     ]
    },
    "e61dee11b8934d2b9951ff6d6d03ca04": {
     "views": [
      {
       "cell_index": 17
      }
     ]
    },
    "fc529fe0b45c444ea92f787b1c51d56f": {
     "views": [
      {
       "cell_index": 21
      }
     ]
    }
   },
   "version": "1.2.0"
  }
 },
 "nbformat": 4,
 "nbformat_minor": 1
}
