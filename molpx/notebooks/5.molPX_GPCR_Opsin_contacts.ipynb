{
 "cells": [
  {
   "cell_type": "markdown",
   "metadata": {},
   "source": [
    "# molPX Opsin Example\n",
    "<pre> \n",
    "Guillermo Pérez-Hernández  guille.perez@fu-berlin.de \n",
    "</pre>\n",
    "   \n",
    "This notebook uses a very short trajectory of a G-Protein-Coupled-Receptor (GPCR) molecule as an example. \n",
    "Unlike Di-Alanine, it is very frequent that such systems are analyzed using of [contact maps](https://en.wikipedia.org/wiki/Protein_contact_map).\n",
    "\n",
    "This can be done now interactively inside the notebook. The trajectory itself is meaningless, but it still can be used as an example"
   ]
  },
  {
   "cell_type": "code",
   "execution_count": 1,
   "metadata": {
    "scrolled": true
   },
   "outputs": [],
   "source": [
    "import molpx"
   ]
  },
  {
   "cell_type": "markdown",
   "metadata": {},
   "source": [
    "## Start from files on disk\n",
    "As usual, our starting point is a pair files on disk with a topology and a trajectory. We import those into the notebook using the awesome [mdtraj](www.mdtraj.org):"
   ]
  },
  {
   "cell_type": "code",
   "execution_count": 2,
   "metadata": {},
   "outputs": [],
   "source": [
    "import mdtraj as md\n",
    "top = md.load(molpx._molpxdir(join='notebooks/data/ops.pdb.gz')).top\n",
    "geom = md.load(molpx._molpxdir(join='notebooks/data/ops_mini.xtc'), top=top)"
   ]
  },
  {
   "cell_type": "markdown",
   "metadata": {},
   "source": [
    "## Compute a contact map using `mdtraj`\n",
    "As usual, one could have computed this using any other python module or even an external program and load it into the notebook. We use the method [`md.compute_contacts`](http://mdtraj.org/1.9.0/api/generated/mdtraj.compute_contacts.html) and then `md.geometry.squareform` (see the example in the previous link).\n",
    "\n",
    "We also implement a cutoff of 3.5 Angstrom to create a binary plot"
   ]
  },
  {
   "cell_type": "code",
   "execution_count": 3,
   "metadata": {
    "scrolled": false
   },
   "outputs": [],
   "source": [
    "contact_map = md.geometry.squareform(*md.compute_contacts(geom))"
   ]
  },
  {
   "cell_type": "code",
   "execution_count": 4,
   "metadata": {},
   "outputs": [],
   "source": [
    "cutoff = .35 # cutoff for residue contact in nm\n",
    "contact_map = (contact_map<.35).astype(float)"
   ]
  },
  {
   "cell_type": "markdown",
   "metadata": {},
   "source": [
    "## Visualize the `contact_map`-trajectory interactively\n",
    "The following cell generates a matplotlib plot showing the contact map and an NGLView widget. The interactivity consists in:\n",
    " - sliding the advance bar in the widget will update the contact map\n",
    " - left-clicking on the contact map will:\n",
    "     - highlight the clicked pixel\n",
    "     - draw the corresponding distance on the widget\n",
    " - right-clicking again on the contact map will delete the distance on the widgtet\n",
    "\n",
    "Panning and zooming of the contact map is allowed. Uncoment the `average` option to see what happens. As usual, both the plot and the widget are contained in a `molpxHBox`. "
   ]
  },
  {
   "cell_type": "code",
   "execution_count": 7,
   "metadata": {
    "scrolled": false
   },
   "outputs": [
    {
     "data": {
      "application/vnd.jupyter.widget-view+json": {
       "model_id": "78b54deed26947ea84b13d30213b7099",
       "version_major": 2,
       "version_minor": 0
      },
      "text/plain": [
       "A Jupyter Widget"
      ]
     },
     "metadata": {},
     "output_type": "display_data"
    }
   ],
   "source": [
    "mpx_wdg_box = molpx.visualize.contacts(contact_map, geom,                                  \n",
    "                                       average=True, \n",
    "                                      )\n",
    "mpx_wdg_box"
   ]
  },
  {
   "cell_type": "markdown",
   "metadata": {},
   "source": [
    "# The ```mpx_wdg_box```\n",
    "It is a class derived from the ipython widgets [HBox](https://ipywidgets.readthedocs.io/en/latest/examples/Widget%20List.html?highlight=Hbox#Container/Layout-widgets) and [VBox](https://ipywidgets.readthedocs.io/en/latest/examples/Widget%20List.html?highlight=Hbox#Container/Layout-widgets), with molPX's extra information as attributes starting with `linked_*` "
   ]
  },
  {
   "cell_type": "code",
   "execution_count": 19,
   "metadata": {},
   "outputs": [
    {
     "name": "stdout",
     "output_type": "stream",
     "text": [
      "linked_ax_wdgs\n",
      "linked_axes\n",
      "linked_data_arrays\n",
      "linked_figs\n",
      "linked_mdgeoms\n",
      "linked_ngl_wdgs\n"
     ]
    }
   ],
   "source": [
    "for attr in dir(mpx_wdg_box):\n",
    "    if attr.startswith('linked_'):\n",
    "        print(attr)"
   ]
  },
  {
   "cell_type": "code",
   "execution_count": null,
   "metadata": {},
   "outputs": [],
   "source": []
  }
 ],
 "metadata": {
  "anaconda-cloud": {},
  "kernelspec": {
   "display_name": "Python 3",
   "language": "python",
   "name": "python3"
  },
  "language_info": {
   "codemirror_mode": {
    "name": "ipython",
    "version": 3
   },
   "file_extension": ".py",
   "mimetype": "text/x-python",
   "name": "python",
   "nbconvert_exporter": "python",
   "pygments_lexer": "ipython3",
   "version": "3.6.2"
  },
  "widgets": {
   "application/vnd.jupyter.widget-state+json": {
    "state": {
     "02f12bd6d6504b0ba027f64e0cfde1b1": {
      "model_module": "@jupyter-widgets/controls",
      "model_module_version": "1.0.0",
      "model_name": "VBoxModel",
      "state": {
       "children": [
        "IPY_MODEL_7bfd978d08ec442eb49b810fa764620a"
       ],
       "layout": "IPY_MODEL_04b8decd164b41e99c638cae7b722702"
      }
     },
     "04b8decd164b41e99c638cae7b722702": {
      "model_module": "@jupyter-widgets/base",
      "model_module_version": "1.0.0",
      "model_name": "LayoutModel",
      "state": {
       "border": "solid"
      }
     },
     "057a8469d4854abda77edc709739ca6d": {
      "model_module": "@jupyter-widgets/controls",
      "model_module_version": "1.0.0",
      "model_name": "HBoxModel",
      "state": {
       "children": [
        "IPY_MODEL_2e1980f0cec742dab313f9ba0c99c926",
        "IPY_MODEL_81ee8894b8b4442b978e319dc3a08da3"
       ],
       "layout": "IPY_MODEL_a0d945adcbde4207a8dfe8d9b9f371e2"
      }
     },
     "05d2da84e09d478dab3dee3c72ca6b59": {
      "model_module": "@jupyter-widgets/base",
      "model_module_version": "1.0.0",
      "model_name": "LayoutModel",
      "state": {}
     },
     "05e2b4b8f40e4ba29f0917bbdb4d639e": {
      "model_module": "@jupyter-widgets/base",
      "model_module_version": "1.0.0",
      "model_name": "LayoutModel",
      "state": {}
     },
     "07c691224682492db5979c86a01ede66": {
      "model_module": "@jupyter-widgets/base",
      "model_module_version": "1.0.0",
      "model_name": "LayoutModel",
      "state": {}
     },
     "083b5b795e9f4e60a8dfd2abba86db3c": {
      "model_module": "@jupyter-widgets/controls",
      "model_module_version": "1.0.0",
      "model_name": "ImageModel",
      "state": {
       "layout": "IPY_MODEL_487200083f724442a5117f01b84eb91d",
       "value": {},
       "width": "900.0"
      }
     },
     "091aba9a11cc45879ac9e3936cdbf397": {
      "model_module": "@jupyter-widgets/base",
      "model_module_version": "1.0.0",
      "model_name": "LayoutModel",
      "state": {}
     },
     "099ccf42fe80479b854da28792ecedeb": {
      "model_module": "@jupyter-widgets/base",
      "model_module_version": "1.0.0",
      "model_name": "LayoutModel",
      "state": {}
     },
     "0d98ccbef3e34da180cf96ff2627eeb7": {
      "model_module": "@jupyter-widgets/controls",
      "model_module_version": "1.0.0",
      "model_name": "ImageModel",
      "state": {
       "layout": "IPY_MODEL_d5a1720d76c74ef6b4e1d337f268576f",
       "value": {},
       "width": "900.0"
      }
     },
     "0fd19a2883be4e5e808b82f204a3ecdb": {
      "model_module": "nglview-js-widgets",
      "model_module_version": "0.5.4-dev.27",
      "model_name": "NGLModel",
      "state": {
       "_camera_orientation": [
        20.242729722135532,
        0,
        0,
        0,
        0,
        20.242729722135532,
        0,
        0,
        0,
        0,
        20.242729722135532,
        0,
        -1.6345000863075256,
        -24.057000160217285,
        -0.8634999841451645,
        1
       ],
       "_camera_str": "orthographic",
       "_image_data": "",
       "_n_dragged_files": 0,
       "_ngl_coordinate_resource": {},
       "_ngl_full_stage_parameters": {
        "ambientColor": 14540253,
        "ambientIntensity": 0.2,
        "backgroundColor": "white",
        "cameraFov": 40,
        "cameraType": "perspective",
        "clipDist": 10,
        "clipFar": 100,
        "clipNear": 0,
        "fogFar": 100,
        "fogNear": 50,
        "hoverTimeout": 0,
        "impostor": true,
        "lightColor": 14540253,
        "lightIntensity": 1,
        "mousePreset": "default",
        "panSpeed": 1,
        "quality": "medium",
        "rotateSpeed": 2,
        "sampleLevel": 0,
        "tooltip": true,
        "workerDefault": true,
        "zoomSpeed": 1.2
       },
       "_ngl_full_stage_parameters_embed": {},
       "_ngl_msg_archive": [],
       "_ngl_original_stage_parameters": {
        "ambientColor": 14540253,
        "ambientIntensity": 0.2,
        "backgroundColor": "white",
        "cameraFov": 40,
        "cameraType": "perspective",
        "clipDist": 10,
        "clipFar": 100,
        "clipNear": 0,
        "fogFar": 100,
        "fogNear": 50,
        "hoverTimeout": 0,
        "impostor": true,
        "lightColor": 14540253,
        "lightIntensity": 1,
        "mousePreset": "default",
        "panSpeed": 1,
        "quality": "medium",
        "rotateSpeed": 2,
        "sampleLevel": 0,
        "tooltip": true,
        "workerDefault": true,
        "zoomSpeed": 1.2
       },
       "_ngl_repr_dict": {
        "0": {
         "0": {
          "params": {
           "aspectRatio": 2,
           "assembly": "default",
           "bondScale": 0.4,
           "bondSpacing": 1,
           "clipCenter": {
            "x": 0,
            "y": 0,
            "z": 0
           },
           "clipNear": 0,
           "clipRadius": 0,
           "colorMode": "hcl",
           "colorReverse": false,
           "colorScale": "",
           "colorScheme": "element",
           "colorValue": 9474192,
           "cylinderOnly": false,
           "defaultAssembly": "",
           "depthWrite": true,
           "diffuse": 16777215,
           "disableImpostor": false,
           "disablePicking": false,
           "flatShaded": false,
           "lazy": false,
           "lineOnly": false,
           "linewidth": 2,
           "matrix": {
            "elements": [
             1,
             0,
             0,
             0,
             0,
             1,
             0,
             0,
             0,
             0,
             1,
             0,
             0,
             0,
             0,
             1
            ]
           },
           "metalness": 0,
           "multipleBond": "off",
           "opacity": 1,
           "openEnded": true,
           "quality": "medium",
           "radialSegments": 10,
           "radius": 0.15,
           "roughness": 0.4,
           "scale": 1,
           "sele": "all",
           "side": "double",
           "sphereDetail": 1,
           "visible": true,
           "wireframe": false
          },
          "type": "ball+stick"
         }
        }
       },
       "_ngl_serialize": false,
       "_ngl_version": "1.0.0-beta.4",
       "_scene_position": {},
       "_scene_rotation": {},
       "background": "white",
       "count": 101,
       "frame": 0,
       "layout": "IPY_MODEL_9399b24089f54498a9e100a5e810ac82",
       "n_components": 1,
       "picked": {}
      }
     },
     "142df587b15c41bf9b90c1c858cf5c9f": {
      "model_module": "@jupyter-widgets/base",
      "model_module_version": "1.0.0",
      "model_name": "LayoutModel",
      "state": {}
     },
     "1850213735f14c1cb59b177e30d1b5ec": {
      "model_module": "@jupyter-widgets/base",
      "model_module_version": "1.0.0",
      "model_name": "LayoutModel",
      "state": {}
     },
     "1c056b4b60a6442c918b60951d157199": {
      "model_module": "@jupyter-widgets/base",
      "model_module_version": "1.0.0",
      "model_name": "LayoutModel",
      "state": {}
     },
     "1c7f85966a9e4ade86ed57e517a49946": {
      "model_module": "@jupyter-widgets/base",
      "model_module_version": "1.0.0",
      "model_name": "LayoutModel",
      "state": {}
     },
     "2198a2fb7aad45679758cabf172ecc04": {
      "model_module": "@jupyter-widgets/base",
      "model_module_version": "1.0.0",
      "model_name": "LayoutModel",
      "state": {}
     },
     "25fa5915d3d24a82a6f4ed61ba9bd7e2": {
      "model_module": "jupyter-matplotlib",
      "model_module_version": "^0.0.2",
      "model_name": "MPLCanvasModel",
      "state": {
       "_dom_classes": [],
       "_id": "",
       "_toolbar_items": [
        [
         "Home",
         "Reset original view",
         "fa fa-home icon-home",
         "home"
        ],
        [
         "Back",
         "Back to  previous view",
         "fa fa-arrow-left icon-arrow-left",
         "back"
        ],
        [
         "Forward",
         "Forward to next view",
         "fa fa-arrow-right icon-arrow-right",
         "forward"
        ],
        [
         "",
         "",
         "",
         ""
        ],
        [
         "Pan",
         "Pan axes with left mouse, zoom with right",
         "fa fa-arrows icon-move",
         "pan"
        ],
        [
         "Zoom",
         "Zoom to rectangle",
         "fa fa-square-o icon-check-empty",
         "zoom"
        ],
        [
         "",
         "",
         "",
         ""
        ],
        [
         "Download",
         "Download plot",
         "fa fa-floppy-o icon-save",
         "download"
        ],
        [
         "Export",
         "Export plot",
         "fa fa-file-picture-o icon-picture",
         "export"
        ]
       ],
       "layout": "IPY_MODEL_7f1d2053edda4e5ca1b524e9f5924446"
      }
     },
     "260cabd9f2e442df94234fdeed71bb5f": {
      "model_module": "jupyter-matplotlib",
      "model_module_version": "^0.0.2",
      "model_name": "MPLCanvasModel",
      "state": {
       "_dom_classes": [],
       "_id": "",
       "_toolbar_items": [
        [
         "Home",
         "Reset original view",
         "fa fa-home icon-home",
         "home"
        ],
        [
         "Back",
         "Back to  previous view",
         "fa fa-arrow-left icon-arrow-left",
         "back"
        ],
        [
         "Forward",
         "Forward to next view",
         "fa fa-arrow-right icon-arrow-right",
         "forward"
        ],
        [
         "",
         "",
         "",
         ""
        ],
        [
         "Pan",
         "Pan axes with left mouse, zoom with right",
         "fa fa-arrows icon-move",
         "pan"
        ],
        [
         "Zoom",
         "Zoom to rectangle",
         "fa fa-square-o icon-check-empty",
         "zoom"
        ],
        [
         "",
         "",
         "",
         ""
        ],
        [
         "Download",
         "Download plot",
         "fa fa-floppy-o icon-save",
         "download"
        ],
        [
         "Export",
         "Export plot",
         "fa fa-file-picture-o icon-picture",
         "export"
        ]
       ],
       "layout": "IPY_MODEL_ef6f87771fbe4759a4fa1ed6a1657388"
      }
     },
     "2e1980f0cec742dab313f9ba0c99c926": {
      "model_module": "@jupyter-widgets/controls",
      "model_module_version": "1.0.0",
      "model_name": "VBoxModel",
      "state": {
       "children": [
        "IPY_MODEL_bd2f9d6498f74a9bbe67da0a7b493466",
        "IPY_MODEL_3c0fcc5000af42fa9011307f57d74de0"
       ],
       "layout": "IPY_MODEL_7bdfa9becaf64de6bf5d8e726cb08a1d"
      }
     },
     "2f4df660fff844c8ab5a0b81908629e5": {
      "model_module": "@jupyter-widgets/controls",
      "model_module_version": "1.0.0",
      "model_name": "ImageModel",
      "state": {
       "layout": "IPY_MODEL_05d2da84e09d478dab3dee3c72ca6b59",
       "value": {},
       "width": "900.0"
      }
     },
     "31b91051b3ec49cda634bde2e7c0d92f": {
      "model_module": "@jupyter-widgets/base",
      "model_module_version": "1.0.0",
      "model_name": "LayoutModel",
      "state": {}
     },
     "3291e228d2e94e2d9e8fa6982aa4177f": {
      "model_module": "@jupyter-widgets/controls",
      "model_module_version": "1.0.0",
      "model_name": "HBoxModel",
      "state": {
       "children": [
        "IPY_MODEL_a61b2b49969448c0a122dc31812b203c",
        "IPY_MODEL_8f3c995b40f94aeb906ceabb0c7edbe6"
       ],
       "layout": "IPY_MODEL_6030098920544b99896c0bc0a261f659"
      }
     },
     "3378fb06740f47eebb58aaec872c1190": {
      "model_module": "@jupyter-widgets/base",
      "model_module_version": "1.0.0",
      "model_name": "LayoutModel",
      "state": {}
     },
     "348b8044a47545eb9da6ffd3780fcb58": {
      "model_module": "@jupyter-widgets/controls",
      "model_module_version": "1.0.0",
      "model_name": "HBoxModel",
      "state": {
       "children": [
        "IPY_MODEL_0fd19a2883be4e5e808b82f204a3ecdb",
        "IPY_MODEL_adaf51e6a3fc417e914db69ac89b336c"
       ],
       "layout": "IPY_MODEL_7034794fd65c481baffe5d4cd405082f"
      }
     },
     "3c0fcc5000af42fa9011307f57d74de0": {
      "model_module": "@jupyter-widgets/controls",
      "model_module_version": "1.0.0",
      "model_name": "VBoxModel",
      "state": {
       "children": [
        "IPY_MODEL_c95ca5fe005344588b3a1100a65530a2"
       ],
       "layout": "IPY_MODEL_9fd08b869f7a4dfda172448bfe845f6c"
      }
     },
     "3f91662dd21548e7a8a1d095a3701b16": {
      "model_module": "nglview-js-widgets",
      "model_module_version": "0.5.4-dev.27",
      "model_name": "NGLModel",
      "state": {
       "_camera_orientation": [
        20.261130760158405,
        0,
        0,
        0,
        0,
        20.261130760158405,
        0,
        0,
        0,
        0,
        20.261130760158405,
        0,
        -1.602999985218048,
        -24.08549976348877,
        -0.7745000571012497,
        1
       ],
       "_camera_str": "orthographic",
       "_image_data": "",
       "_n_dragged_files": 0,
       "_ngl_coordinate_resource": {},
       "_ngl_full_stage_parameters": {
        "ambientColor": 14540253,
        "ambientIntensity": 0.2,
        "backgroundColor": "white",
        "cameraFov": 40,
        "cameraType": "perspective",
        "clipDist": 10,
        "clipFar": 100,
        "clipNear": 0,
        "fogFar": 100,
        "fogNear": 50,
        "hoverTimeout": 0,
        "impostor": true,
        "lightColor": 14540253,
        "lightIntensity": 1,
        "mousePreset": "default",
        "panSpeed": 1,
        "quality": "medium",
        "rotateSpeed": 2,
        "sampleLevel": 0,
        "tooltip": true,
        "workerDefault": true,
        "zoomSpeed": 1.2
       },
       "_ngl_full_stage_parameters_embed": {},
       "_ngl_msg_archive": [],
       "_ngl_original_stage_parameters": {
        "ambientColor": 14540253,
        "ambientIntensity": 0.2,
        "backgroundColor": "white",
        "cameraFov": 40,
        "cameraType": "perspective",
        "clipDist": 10,
        "clipFar": 100,
        "clipNear": 0,
        "fogFar": 100,
        "fogNear": 50,
        "hoverTimeout": 0,
        "impostor": true,
        "lightColor": 14540253,
        "lightIntensity": 1,
        "mousePreset": "default",
        "panSpeed": 1,
        "quality": "medium",
        "rotateSpeed": 2,
        "sampleLevel": 0,
        "tooltip": true,
        "workerDefault": true,
        "zoomSpeed": 1.2
       },
       "_ngl_repr_dict": {
        "0": {
         "0": {
          "params": {
           "aspectRatio": 2,
           "assembly": "default",
           "bondScale": 0.4,
           "bondSpacing": 1,
           "clipCenter": {
            "x": 0,
            "y": 0,
            "z": 0
           },
           "clipNear": 0,
           "clipRadius": 0,
           "colorMode": "hcl",
           "colorReverse": false,
           "colorScale": "",
           "colorScheme": "element",
           "colorValue": 9474192,
           "cylinderOnly": false,
           "defaultAssembly": "",
           "depthWrite": true,
           "diffuse": 16777215,
           "disableImpostor": false,
           "disablePicking": false,
           "flatShaded": false,
           "lazy": false,
           "lineOnly": false,
           "linewidth": 2,
           "matrix": {
            "elements": [
             1,
             0,
             0,
             0,
             0,
             1,
             0,
             0,
             0,
             0,
             1,
             0,
             0,
             0,
             0,
             1
            ]
           },
           "metalness": 0,
           "multipleBond": "off",
           "opacity": 1,
           "openEnded": true,
           "quality": "medium",
           "radialSegments": 10,
           "radius": 0.15,
           "roughness": 0.4,
           "scale": 1,
           "sele": "all",
           "side": "double",
           "sphereDetail": 1,
           "visible": true,
           "wireframe": false
          },
          "type": "ball+stick"
         }
        }
       },
       "_ngl_serialize": false,
       "_ngl_version": "1.0.0-beta.4",
       "_scene_position": {},
       "_scene_rotation": {},
       "background": "white",
       "count": 101,
       "frame": 0,
       "layout": "IPY_MODEL_cb2ce9cb14d74e6eba74aa41e3d3902c",
       "n_components": 1,
       "picked": {}
      }
     },
     "40260d55b7e84c5f84ce7ee1658cc7d8": {
      "model_module": "@jupyter-widgets/controls",
      "model_module_version": "1.0.0",
      "model_name": "ImageModel",
      "state": {
       "layout": "IPY_MODEL_099ccf42fe80479b854da28792ecedeb",
       "value": {},
       "width": "900.0"
      }
     },
     "4224777922c14f31894db65575a86dca": {
      "model_module": "@jupyter-widgets/base",
      "model_module_version": "1.0.0",
      "model_name": "LayoutModel",
      "state": {}
     },
     "425f648935634967b4fe500e1c1a2253": {
      "model_module": "@jupyter-widgets/controls",
      "model_module_version": "1.0.0",
      "model_name": "ImageModel",
      "state": {
       "layout": "IPY_MODEL_d523002ca8a94346b19d51176c999b2f",
       "value": {},
       "width": "900.0"
      }
     },
     "4598d04e9e5f4177980ce355c95007e2": {
      "model_module": "@jupyter-widgets/controls",
      "model_module_version": "1.0.0",
      "model_name": "HBoxModel",
      "state": {
       "children": [
        "IPY_MODEL_4aeee03c9ad04073910a9ae57df1cd63",
        "IPY_MODEL_260cabd9f2e442df94234fdeed71bb5f"
       ],
       "layout": "IPY_MODEL_c08e3c0d48a848048a9eddb863b63b9b"
      }
     },
     "4829969606c0466883452a51a9eda8ed": {
      "model_module": "nglview-js-widgets",
      "model_module_version": "0.5.4-dev.27",
      "model_name": "NGLModel",
      "state": {
       "_camera_orientation": [
        22.27569735577003,
        0,
        0,
        0,
        0,
        22.27569735577003,
        0,
        0,
        0,
        0,
        22.27569735577003,
        0,
        -1.6459999680519104,
        -24.449999809265137,
        -0.7815000414848328,
        1
       ],
       "_camera_str": "orthographic",
       "_image_data": "",
       "_n_dragged_files": 0,
       "_ngl_coordinate_resource": {},
       "_ngl_full_stage_parameters": {
        "ambientColor": 14540253,
        "ambientIntensity": 0.2,
        "backgroundColor": "white",
        "cameraFov": 40,
        "cameraType": "perspective",
        "clipDist": 10,
        "clipFar": 100,
        "clipNear": 0,
        "fogFar": 100,
        "fogNear": 50,
        "hoverTimeout": 0,
        "impostor": true,
        "lightColor": 14540253,
        "lightIntensity": 1,
        "mousePreset": "default",
        "panSpeed": 1,
        "quality": "medium",
        "rotateSpeed": 2,
        "sampleLevel": 0,
        "tooltip": true,
        "workerDefault": true,
        "zoomSpeed": 1.2
       },
       "_ngl_full_stage_parameters_embed": {},
       "_ngl_msg_archive": [],
       "_ngl_original_stage_parameters": {
        "ambientColor": 14540253,
        "ambientIntensity": 0.2,
        "backgroundColor": "white",
        "cameraFov": 40,
        "cameraType": "perspective",
        "clipDist": 10,
        "clipFar": 100,
        "clipNear": 0,
        "fogFar": 100,
        "fogNear": 50,
        "hoverTimeout": 0,
        "impostor": true,
        "lightColor": 14540253,
        "lightIntensity": 1,
        "mousePreset": "default",
        "panSpeed": 1,
        "quality": "medium",
        "rotateSpeed": 2,
        "sampleLevel": 0,
        "tooltip": true,
        "workerDefault": true,
        "zoomSpeed": 1.2
       },
       "_ngl_repr_dict": {
        "0": {
         "0": {
          "params": {
           "aspectRatio": 2,
           "assembly": "default",
           "bondScale": 0.4,
           "bondSpacing": 1,
           "clipCenter": {
            "x": 0,
            "y": 0,
            "z": 0
           },
           "clipNear": 0,
           "clipRadius": 0,
           "colorMode": "hcl",
           "colorReverse": false,
           "colorScale": "",
           "colorScheme": "element",
           "colorValue": 9474192,
           "cylinderOnly": false,
           "defaultAssembly": "",
           "depthWrite": true,
           "diffuse": 16777215,
           "disableImpostor": false,
           "disablePicking": false,
           "flatShaded": false,
           "lazy": false,
           "lineOnly": false,
           "linewidth": 2,
           "matrix": {
            "elements": [
             1,
             0,
             0,
             0,
             0,
             1,
             0,
             0,
             0,
             0,
             1,
             0,
             0,
             0,
             0,
             1
            ]
           },
           "metalness": 0,
           "multipleBond": "off",
           "opacity": 1,
           "openEnded": true,
           "quality": "medium",
           "radialSegments": 10,
           "radius": 0.15,
           "roughness": 0.4,
           "scale": 1,
           "sele": "all",
           "side": "double",
           "sphereDetail": 1,
           "visible": true,
           "wireframe": false
          },
          "type": "ball+stick"
         }
        }
       },
       "_ngl_serialize": false,
       "_ngl_version": "1.0.0-beta.4",
       "_scene_position": {},
       "_scene_rotation": {},
       "background": "white",
       "count": 101,
       "frame": 93,
       "layout": "IPY_MODEL_c492ce1d58cd4004a095f6c0aefd7d04",
       "n_components": 1,
       "picked": {}
      }
     },
     "487200083f724442a5117f01b84eb91d": {
      "model_module": "@jupyter-widgets/base",
      "model_module_version": "1.0.0",
      "model_name": "LayoutModel",
      "state": {}
     },
     "4aeee03c9ad04073910a9ae57df1cd63": {
      "model_module": "nglview-js-widgets",
      "model_module_version": "0.5.4-dev.27",
      "model_name": "NGLModel",
      "state": {
       "_camera_orientation": [
        22.335864075149413,
        0,
        0,
        0,
        0,
        22.335864075149413,
        0,
        0,
        0,
        0,
        22.335864075149413,
        0,
        -1.5269999504089355,
        -24.34749984741211,
        -0.7614999413490295,
        1
       ],
       "_camera_str": "orthographic",
       "_image_data": "",
       "_n_dragged_files": 0,
       "_ngl_coordinate_resource": {},
       "_ngl_full_stage_parameters": {
        "ambientColor": 14540253,
        "ambientIntensity": 0.2,
        "backgroundColor": "white",
        "cameraFov": 40,
        "cameraType": "perspective",
        "clipDist": 10,
        "clipFar": 100,
        "clipNear": 0,
        "fogFar": 100,
        "fogNear": 50,
        "hoverTimeout": 0,
        "impostor": true,
        "lightColor": 14540253,
        "lightIntensity": 1,
        "mousePreset": "default",
        "panSpeed": 1,
        "quality": "medium",
        "rotateSpeed": 2,
        "sampleLevel": 0,
        "tooltip": true,
        "workerDefault": true,
        "zoomSpeed": 1.2
       },
       "_ngl_full_stage_parameters_embed": {},
       "_ngl_msg_archive": [],
       "_ngl_original_stage_parameters": {
        "ambientColor": 14540253,
        "ambientIntensity": 0.2,
        "backgroundColor": "white",
        "cameraFov": 40,
        "cameraType": "perspective",
        "clipDist": 10,
        "clipFar": 100,
        "clipNear": 0,
        "fogFar": 100,
        "fogNear": 50,
        "hoverTimeout": 0,
        "impostor": true,
        "lightColor": 14540253,
        "lightIntensity": 1,
        "mousePreset": "default",
        "panSpeed": 1,
        "quality": "medium",
        "rotateSpeed": 2,
        "sampleLevel": 0,
        "tooltip": true,
        "workerDefault": true,
        "zoomSpeed": 1.2
       },
       "_ngl_repr_dict": {
        "0": {
         "0": {
          "params": {
           "aspectRatio": 2,
           "assembly": "default",
           "bondScale": 0.4,
           "bondSpacing": 1,
           "clipCenter": {
            "x": 0,
            "y": 0,
            "z": 0
           },
           "clipNear": 0,
           "clipRadius": 0,
           "colorMode": "hcl",
           "colorReverse": false,
           "colorScale": "",
           "colorScheme": "element",
           "colorValue": 9474192,
           "cylinderOnly": false,
           "defaultAssembly": "",
           "depthWrite": true,
           "diffuse": 16777215,
           "disableImpostor": false,
           "disablePicking": false,
           "flatShaded": false,
           "lazy": false,
           "lineOnly": false,
           "linewidth": 2,
           "matrix": {
            "elements": [
             1,
             0,
             0,
             0,
             0,
             1,
             0,
             0,
             0,
             0,
             1,
             0,
             0,
             0,
             0,
             1
            ]
           },
           "metalness": 0,
           "multipleBond": "off",
           "opacity": 1,
           "openEnded": true,
           "quality": "medium",
           "radialSegments": 10,
           "radius": 0.15,
           "roughness": 0.4,
           "scale": 1,
           "sele": "all",
           "side": "double",
           "sphereDetail": 1,
           "visible": true,
           "wireframe": false
          },
          "type": "ball+stick"
         }
        }
       },
       "_ngl_serialize": false,
       "_ngl_version": "1.0.0-beta.4",
       "_scene_position": {},
       "_scene_rotation": {},
       "background": "white",
       "count": 101,
       "frame": 0,
       "layout": "IPY_MODEL_952e7c4f72be4ad78e081ef9ca637c2a",
       "n_components": 1,
       "picked": {}
      }
     },
     "4b8ff78d08724692bffc261489797bcd": {
      "model_module": "nglview-js-widgets",
      "model_module_version": "0.5.4-dev.27",
      "model_name": "NGLModel",
      "state": {
       "_camera_orientation": [
        20.440059597101534,
        0,
        0,
        0,
        0,
        20.440059597101534,
        0,
        0,
        0,
        0,
        20.440059597101534,
        0,
        -1.5479999482631683,
        -24.090499877929688,
        -0.8869999498128891,
        1
       ],
       "_camera_str": "orthographic",
       "_image_data": "",
       "_n_dragged_files": 0,
       "_ngl_coordinate_resource": {},
       "_ngl_full_stage_parameters": {
        "ambientColor": 14540253,
        "ambientIntensity": 0.2,
        "backgroundColor": "white",
        "cameraFov": 40,
        "cameraType": "perspective",
        "clipDist": 10,
        "clipFar": 100,
        "clipNear": 0,
        "fogFar": 100,
        "fogNear": 50,
        "hoverTimeout": 0,
        "impostor": true,
        "lightColor": 14540253,
        "lightIntensity": 1,
        "mousePreset": "default",
        "panSpeed": 1,
        "quality": "medium",
        "rotateSpeed": 2,
        "sampleLevel": 0,
        "tooltip": true,
        "workerDefault": true,
        "zoomSpeed": 1.2
       },
       "_ngl_full_stage_parameters_embed": {},
       "_ngl_msg_archive": [],
       "_ngl_original_stage_parameters": {
        "ambientColor": 14540253,
        "ambientIntensity": 0.2,
        "backgroundColor": "white",
        "cameraFov": 40,
        "cameraType": "perspective",
        "clipDist": 10,
        "clipFar": 100,
        "clipNear": 0,
        "fogFar": 100,
        "fogNear": 50,
        "hoverTimeout": 0,
        "impostor": true,
        "lightColor": 14540253,
        "lightIntensity": 1,
        "mousePreset": "default",
        "panSpeed": 1,
        "quality": "medium",
        "rotateSpeed": 2,
        "sampleLevel": 0,
        "tooltip": true,
        "workerDefault": true,
        "zoomSpeed": 1.2
       },
       "_ngl_repr_dict": {
        "0": {
         "0": {
          "params": {
           "aspectRatio": 2,
           "assembly": "default",
           "bondScale": 0.4,
           "bondSpacing": 1,
           "clipCenter": {
            "x": 0,
            "y": 0,
            "z": 0
           },
           "clipNear": 0,
           "clipRadius": 0,
           "colorMode": "hcl",
           "colorReverse": false,
           "colorScale": "",
           "colorScheme": "element",
           "colorValue": 9474192,
           "cylinderOnly": false,
           "defaultAssembly": "",
           "depthWrite": true,
           "diffuse": 16777215,
           "disableImpostor": false,
           "disablePicking": false,
           "flatShaded": false,
           "lazy": false,
           "lineOnly": false,
           "linewidth": 2,
           "matrix": {
            "elements": [
             1,
             0,
             0,
             0,
             0,
             1,
             0,
             0,
             0,
             0,
             1,
             0,
             0,
             0,
             0,
             1
            ]
           },
           "metalness": 0,
           "multipleBond": "off",
           "opacity": 1,
           "openEnded": true,
           "quality": "medium",
           "radialSegments": 10,
           "radius": 0.15,
           "roughness": 0.4,
           "scale": 1,
           "sele": "all",
           "side": "double",
           "sphereDetail": 1,
           "visible": true,
           "wireframe": false
          },
          "type": "ball+stick"
         }
        }
       },
       "_ngl_serialize": false,
       "_ngl_version": "1.0.0-beta.4",
       "_scene_position": {},
       "_scene_rotation": {},
       "background": "white",
       "count": 101,
       "frame": 0,
       "layout": "IPY_MODEL_981cfe953700402498eeec039f102f4a",
       "n_components": 1,
       "picked": {}
      }
     },
     "4e2d7923d0e34c7fbf272cab480aabc7": {
      "model_module": "@jupyter-widgets/base",
      "model_module_version": "1.0.0",
      "model_name": "LayoutModel",
      "state": {}
     },
     "4f5f5b9396204953a477bf57fbccbfc0": {
      "model_module": "@jupyter-widgets/base",
      "model_module_version": "1.0.0",
      "model_name": "LayoutModel",
      "state": {}
     },
     "526cafeb1ce042c1bce2614988570e74": {
      "model_module": "@jupyter-widgets/base",
      "model_module_version": "1.0.0",
      "model_name": "LayoutModel",
      "state": {}
     },
     "56ca44e8b4ef41eeace7b3c88ec9b15f": {
      "model_module": "@jupyter-widgets/controls",
      "model_module_version": "1.0.0",
      "model_name": "ImageModel",
      "state": {
       "layout": "IPY_MODEL_2198a2fb7aad45679758cabf172ecc04",
       "value": {},
       "width": "900.0"
      }
     },
     "5ce550eaef3f470a9d6e6142a846f97d": {
      "model_module": "@jupyter-widgets/base",
      "model_module_version": "1.0.0",
      "model_name": "LayoutModel",
      "state": {}
     },
     "6030098920544b99896c0bc0a261f659": {
      "model_module": "@jupyter-widgets/base",
      "model_module_version": "1.0.0",
      "model_name": "LayoutModel",
      "state": {}
     },
     "643eba7fb1e545d295d4b46e07b96d34": {
      "model_module": "@jupyter-widgets/controls",
      "model_module_version": "1.0.0",
      "model_name": "HBoxModel",
      "state": {
       "children": [
        "IPY_MODEL_3f91662dd21548e7a8a1d095a3701b16",
        "IPY_MODEL_87ba27ec276d4b4b9ac32cfdbc0d42fe"
       ],
       "layout": "IPY_MODEL_64c8a781e0f843b9a047200d2a4b844b"
      }
     },
     "64c8a781e0f843b9a047200d2a4b844b": {
      "model_module": "@jupyter-widgets/base",
      "model_module_version": "1.0.0",
      "model_name": "LayoutModel",
      "state": {}
     },
     "6775e7024caa458ea43e223a7fea355a": {
      "model_module": "@jupyter-widgets/controls",
      "model_module_version": "1.0.0",
      "model_name": "ButtonStyleModel",
      "state": {}
     },
     "67b93a07aeea405daccd6c55cf6ea5ef": {
      "model_module": "@jupyter-widgets/controls",
      "model_module_version": "1.0.0",
      "model_name": "HBoxModel",
      "state": {
       "children": [
        "IPY_MODEL_fb9d851ef63e4813bc8dcb22dc7e0f4b",
        "IPY_MODEL_c6030751df7c46a2b1ba0b1e303c79cd"
       ],
       "layout": "IPY_MODEL_4f5f5b9396204953a477bf57fbccbfc0"
      }
     },
     "69ed4cec545c401b88f9dd9921011751": {
      "model_module": "@jupyter-widgets/controls",
      "model_module_version": "1.0.0",
      "model_name": "HBoxModel",
      "state": {
       "children": [
        "IPY_MODEL_4829969606c0466883452a51a9eda8ed",
        "IPY_MODEL_d5f60915434a422999c82949b45700a6"
       ],
       "layout": "IPY_MODEL_ca6b587f4bdf4a31ac25c181de986d10"
      }
     },
     "6ce05eb037e14bb18eca09f8ea356484": {
      "model_module": "jupyter-matplotlib",
      "model_module_version": "^0.0.2",
      "model_name": "MPLCanvasModel",
      "state": {
       "_dom_classes": [],
       "_id": "",
       "_toolbar_items": [
        [
         "Home",
         "Reset original view",
         "fa fa-home icon-home",
         "home"
        ],
        [
         "Back",
         "Back to  previous view",
         "fa fa-arrow-left icon-arrow-left",
         "back"
        ],
        [
         "Forward",
         "Forward to next view",
         "fa fa-arrow-right icon-arrow-right",
         "forward"
        ],
        [
         "",
         "",
         "",
         ""
        ],
        [
         "Pan",
         "Pan axes with left mouse, zoom with right",
         "fa fa-arrows icon-move",
         "pan"
        ],
        [
         "Zoom",
         "Zoom to rectangle",
         "fa fa-square-o icon-check-empty",
         "zoom"
        ],
        [
         "",
         "",
         "",
         ""
        ],
        [
         "Download",
         "Download plot",
         "fa fa-floppy-o icon-save",
         "download"
        ],
        [
         "Export",
         "Export plot",
         "fa fa-file-picture-o icon-picture",
         "export"
        ]
       ],
       "layout": "IPY_MODEL_1c7f85966a9e4ade86ed57e517a49946"
      }
     },
     "7034794fd65c481baffe5d4cd405082f": {
      "model_module": "@jupyter-widgets/base",
      "model_module_version": "1.0.0",
      "model_name": "LayoutModel",
      "state": {}
     },
     "7311e30372fd4ad99110f011b8adb856": {
      "model_module": "@jupyter-widgets/base",
      "model_module_version": "1.0.0",
      "model_name": "LayoutModel",
      "state": {}
     },
     "74f0b5162cd042ff829d4578becfdb24": {
      "model_module": "@jupyter-widgets/controls",
      "model_module_version": "1.0.0",
      "model_name": "ImageModel",
      "state": {
       "layout": "IPY_MODEL_07c691224682492db5979c86a01ede66",
       "value": {},
       "width": "900.0"
      }
     },
     "75807289a5e64c8eb4e8179d222dfc8f": {
      "model_module": "@jupyter-widgets/base",
      "model_module_version": "1.0.0",
      "model_name": "LayoutModel",
      "state": {}
     },
     "75a01831722d4f60b5ee7e5eeca054b7": {
      "model_module": "@jupyter-widgets/base",
      "model_module_version": "1.0.0",
      "model_name": "LayoutModel",
      "state": {}
     },
     "7bdfa9becaf64de6bf5d8e726cb08a1d": {
      "model_module": "@jupyter-widgets/base",
      "model_module_version": "1.0.0",
      "model_name": "LayoutModel",
      "state": {
       "height": "2.0in",
       "width": "5.0in"
      }
     },
     "7bfd978d08ec442eb49b810fa764620a": {
      "model_module": "nglview-js-widgets",
      "model_module_version": "0.5.4-dev.27",
      "model_name": "NGLModel",
      "state": {
       "_camera_orientation": [
        23.053436912758006,
        0,
        0,
        0,
        0,
        23.053436912758006,
        0,
        0,
        0,
        0,
        23.053436912758006,
        0,
        -1.7549998760223389,
        -24.3100004196167,
        -0.7849999666213989,
        1
       ],
       "_camera_str": "orthographic",
       "_image_data": "",
       "_n_dragged_files": 0,
       "_ngl_coordinate_resource": {},
       "_ngl_full_stage_parameters": {
        "ambientColor": 14540253,
        "ambientIntensity": 0.2,
        "backgroundColor": "white",
        "cameraFov": 40,
        "cameraType": "perspective",
        "clipDist": 10,
        "clipFar": 100,
        "clipNear": 0,
        "fogFar": 100,
        "fogNear": 50,
        "hoverTimeout": 0,
        "impostor": true,
        "lightColor": 14540253,
        "lightIntensity": 1,
        "mousePreset": "default",
        "panSpeed": 1,
        "quality": "medium",
        "rotateSpeed": 2,
        "sampleLevel": 0,
        "tooltip": true,
        "workerDefault": true,
        "zoomSpeed": 1.2
       },
       "_ngl_full_stage_parameters_embed": {},
       "_ngl_msg_archive": [],
       "_ngl_original_stage_parameters": {
        "ambientColor": 14540253,
        "ambientIntensity": 0.2,
        "backgroundColor": "white",
        "cameraFov": 40,
        "cameraType": "perspective",
        "clipDist": 10,
        "clipFar": 100,
        "clipNear": 0,
        "fogFar": 100,
        "fogNear": 50,
        "hoverTimeout": 0,
        "impostor": true,
        "lightColor": 14540253,
        "lightIntensity": 1,
        "mousePreset": "default",
        "panSpeed": 1,
        "quality": "medium",
        "rotateSpeed": 2,
        "sampleLevel": 0,
        "tooltip": true,
        "workerDefault": true,
        "zoomSpeed": 1.2
       },
       "_ngl_repr_dict": {
        "0": {
         "0": {
          "params": {
           "aspectRatio": 2,
           "assembly": "default",
           "bondScale": 0.4,
           "bondSpacing": 1,
           "clipCenter": {
            "x": 0,
            "y": 0,
            "z": 0
           },
           "clipNear": 0,
           "clipRadius": 0,
           "colorMode": "hcl",
           "colorReverse": false,
           "colorScale": "",
           "colorScheme": "element",
           "colorValue": 9474192,
           "cylinderOnly": false,
           "defaultAssembly": "",
           "depthWrite": true,
           "diffuse": 16777215,
           "disableImpostor": false,
           "disablePicking": false,
           "flatShaded": false,
           "lazy": false,
           "lineOnly": false,
           "linewidth": 2,
           "matrix": {
            "elements": [
             1,
             0,
             0,
             0,
             0,
             1,
             0,
             0,
             0,
             0,
             1,
             0,
             0,
             0,
             0,
             1
            ]
           },
           "metalness": 0,
           "multipleBond": "off",
           "opacity": 1,
           "openEnded": true,
           "quality": "medium",
           "radialSegments": 10,
           "radius": 0.15,
           "roughness": 0.4,
           "scale": 1,
           "sele": "all",
           "side": "double",
           "sphereDetail": 1,
           "visible": true,
           "wireframe": false
          },
          "type": "ball+stick"
         }
        }
       },
       "_ngl_serialize": false,
       "_ngl_version": "1.0.0-beta.4",
       "_scene_position": {},
       "_scene_rotation": {},
       "background": "white",
       "count": 3334,
       "frame": 0,
       "layout": "IPY_MODEL_05e2b4b8f40e4ba29f0917bbdb4d639e",
       "n_components": 1,
       "picked": {}
      }
     },
     "7c45ca81b410488dad1921ef9e3cd666": {
      "model_module": "@jupyter-widgets/base",
      "model_module_version": "1.0.0",
      "model_name": "LayoutModel",
      "state": {
       "width": "100%"
      }
     },
     "7db7fde8386c41f4a6729b9f01fd10fa": {
      "model_module": "@jupyter-widgets/base",
      "model_module_version": "1.0.0",
      "model_name": "LayoutModel",
      "state": {}
     },
     "7f1d2053edda4e5ca1b524e9f5924446": {
      "model_module": "@jupyter-widgets/base",
      "model_module_version": "1.0.0",
      "model_name": "LayoutModel",
      "state": {}
     },
     "806ca048c1834d5a91b01e0384ba0116": {
      "model_module": "@jupyter-widgets/controls",
      "model_module_version": "1.0.0",
      "model_name": "ImageModel",
      "state": {
       "layout": "IPY_MODEL_c30dcd93e9fc4fc780101d81fc128c10",
       "value": {},
       "width": "900.0"
      }
     },
     "80c7306fd5394a8180989ee6d1421468": {
      "model_module": "@jupyter-widgets/base",
      "model_module_version": "1.0.0",
      "model_name": "LayoutModel",
      "state": {}
     },
     "81ee8894b8b4442b978e319dc3a08da3": {
      "model_module": "jupyter-matplotlib",
      "model_module_version": "^0.0.2",
      "model_name": "MPLCanvasModel",
      "state": {
       "_dom_classes": [],
       "_id": "",
       "_toolbar_items": [
        [
         "Home",
         "Reset original view",
         "fa fa-home icon-home",
         "home"
        ],
        [
         "Back",
         "Back to  previous view",
         "fa fa-arrow-left icon-arrow-left",
         "back"
        ],
        [
         "Forward",
         "Forward to next view",
         "fa fa-arrow-right icon-arrow-right",
         "forward"
        ],
        [
         "",
         "",
         "",
         ""
        ],
        [
         "Pan",
         "Pan axes with left mouse, zoom with right",
         "fa fa-arrows icon-move",
         "pan"
        ],
        [
         "Zoom",
         "Zoom to rectangle",
         "fa fa-square-o icon-check-empty",
         "zoom"
        ],
        [
         "",
         "",
         "",
         ""
        ],
        [
         "Download",
         "Download plot",
         "fa fa-floppy-o icon-save",
         "download"
        ],
        [
         "Export",
         "Export plot",
         "fa fa-file-picture-o icon-picture",
         "export"
        ]
       ],
       "layout": "IPY_MODEL_3378fb06740f47eebb58aaec872c1190"
      }
     },
     "87ba27ec276d4b4b9ac32cfdbc0d42fe": {
      "model_module": "jupyter-matplotlib",
      "model_module_version": "^0.0.2",
      "model_name": "MPLCanvasModel",
      "state": {
       "_dom_classes": [],
       "_id": "",
       "_toolbar_items": [
        [
         "Home",
         "Reset original view",
         "fa fa-home icon-home",
         "home"
        ],
        [
         "Back",
         "Back to  previous view",
         "fa fa-arrow-left icon-arrow-left",
         "back"
        ],
        [
         "Forward",
         "Forward to next view",
         "fa fa-arrow-right icon-arrow-right",
         "forward"
        ],
        [
         "",
         "",
         "",
         ""
        ],
        [
         "Pan",
         "Pan axes with left mouse, zoom with right",
         "fa fa-arrows icon-move",
         "pan"
        ],
        [
         "Zoom",
         "Zoom to rectangle",
         "fa fa-square-o icon-check-empty",
         "zoom"
        ],
        [
         "",
         "",
         "",
         ""
        ],
        [
         "Download",
         "Download plot",
         "fa fa-floppy-o icon-save",
         "download"
        ],
        [
         "Export",
         "Export plot",
         "fa fa-file-picture-o icon-picture",
         "export"
        ]
       ],
       "layout": "IPY_MODEL_7db7fde8386c41f4a6729b9f01fd10fa"
      }
     },
     "8931ccd404fc4f4c992e0ecd8b9337cc": {
      "model_module": "@jupyter-widgets/base",
      "model_module_version": "1.0.0",
      "model_name": "LayoutModel",
      "state": {
       "height": "2.0in",
       "width": "5.0in"
      }
     },
     "8a2c5b58347043848a48e53894cb7152": {
      "model_module": "@jupyter-widgets/base",
      "model_module_version": "1.0.0",
      "model_name": "LayoutModel",
      "state": {
       "width": "100%"
      }
     },
     "8a9d4e5f727846c183272e24d1c9bd7b": {
      "model_module": "nglview-js-widgets",
      "model_module_version": "0.5.4-dev.27",
      "model_name": "NGLModel",
      "state": {
       "_camera_orientation": [
        20.25637601878781,
        0,
        0,
        0,
        0,
        20.25637601878781,
        0,
        0,
        0,
        0,
        20.25637601878781,
        0,
        -1.5909999758005142,
        -23.98050022125244,
        -0.5059999823570251,
        1
       ],
       "_camera_str": "orthographic",
       "_image_data": "",
       "_n_dragged_files": 0,
       "_ngl_coordinate_resource": {},
       "_ngl_full_stage_parameters": {
        "ambientColor": 14540253,
        "ambientIntensity": 0.2,
        "backgroundColor": "white",
        "cameraFov": 40,
        "cameraType": "perspective",
        "clipDist": 10,
        "clipFar": 100,
        "clipNear": 0,
        "fogFar": 100,
        "fogNear": 50,
        "hoverTimeout": 0,
        "impostor": true,
        "lightColor": 14540253,
        "lightIntensity": 1,
        "mousePreset": "default",
        "panSpeed": 1,
        "quality": "medium",
        "rotateSpeed": 2,
        "sampleLevel": 0,
        "tooltip": true,
        "workerDefault": true,
        "zoomSpeed": 1.2
       },
       "_ngl_full_stage_parameters_embed": {},
       "_ngl_msg_archive": [],
       "_ngl_original_stage_parameters": {
        "ambientColor": 14540253,
        "ambientIntensity": 0.2,
        "backgroundColor": "white",
        "cameraFov": 40,
        "cameraType": "perspective",
        "clipDist": 10,
        "clipFar": 100,
        "clipNear": 0,
        "fogFar": 100,
        "fogNear": 50,
        "hoverTimeout": 0,
        "impostor": true,
        "lightColor": 14540253,
        "lightIntensity": 1,
        "mousePreset": "default",
        "panSpeed": 1,
        "quality": "medium",
        "rotateSpeed": 2,
        "sampleLevel": 0,
        "tooltip": true,
        "workerDefault": true,
        "zoomSpeed": 1.2
       },
       "_ngl_repr_dict": {
        "0": {
         "0": {
          "params": {
           "aspectRatio": 2,
           "assembly": "default",
           "bondScale": 0.4,
           "bondSpacing": 1,
           "clipCenter": {
            "x": 0,
            "y": 0,
            "z": 0
           },
           "clipNear": 0,
           "clipRadius": 0,
           "colorMode": "hcl",
           "colorReverse": false,
           "colorScale": "",
           "colorScheme": "element",
           "colorValue": 9474192,
           "cylinderOnly": false,
           "defaultAssembly": "",
           "depthWrite": true,
           "diffuse": 16777215,
           "disableImpostor": false,
           "disablePicking": false,
           "flatShaded": false,
           "lazy": false,
           "lineOnly": false,
           "linewidth": 2,
           "matrix": {
            "elements": [
             1,
             0,
             0,
             0,
             0,
             1,
             0,
             0,
             0,
             0,
             1,
             0,
             0,
             0,
             0,
             1
            ]
           },
           "metalness": 0,
           "multipleBond": "off",
           "opacity": 1,
           "openEnded": true,
           "quality": "medium",
           "radialSegments": 10,
           "radius": 0.15,
           "roughness": 0.4,
           "scale": 1,
           "sele": "all",
           "side": "double",
           "sphereDetail": 1,
           "visible": true,
           "wireframe": false
          },
          "type": "ball+stick"
         }
        }
       },
       "_ngl_serialize": false,
       "_ngl_version": "1.0.0-beta.4",
       "_scene_position": {},
       "_scene_rotation": {},
       "background": "white",
       "count": 101,
       "frame": 50,
       "layout": "IPY_MODEL_a41caba466c94b7e8d8f7061dcc1c7a7",
       "n_components": 1,
       "picked": {}
      }
     },
     "8ac9a3d696a246d38d7859788311f6f2": {
      "model_module": "@jupyter-widgets/base",
      "model_module_version": "1.0.0",
      "model_name": "LayoutModel",
      "state": {}
     },
     "8b61aba639974bdeb2e63e99aaab8f29": {
      "model_module": "@jupyter-widgets/controls",
      "model_module_version": "1.0.0",
      "model_name": "HBoxModel",
      "state": {
       "children": [
        "IPY_MODEL_cbaf382c92d8485892ea4bd1ff093eb7",
        "IPY_MODEL_dc6fbb5ce3d44e6baf4fb3e68232ea8a"
       ],
       "layout": "IPY_MODEL_b199ab3bb19c47f6825419e9a73f7afe"
      }
     },
     "8baafb4e8bb64a17b429fd94923253a3": {
      "model_module": "@jupyter-widgets/base",
      "model_module_version": "1.0.0",
      "model_name": "LayoutModel",
      "state": {}
     },
     "8db875f339984f819fa6a20484ed64d2": {
      "model_module": "nglview-js-widgets",
      "model_module_version": "0.5.4-dev.27",
      "model_name": "NGLModel",
      "state": {
       "_camera_orientation": [],
       "_camera_str": "orthographic",
       "_image_data": "",
       "_n_dragged_files": 0,
       "_ngl_coordinate_resource": {},
       "_ngl_full_stage_parameters": {},
       "_ngl_full_stage_parameters_embed": {},
       "_ngl_msg_archive": [],
       "_ngl_original_stage_parameters": {},
       "_ngl_repr_dict": {},
       "_ngl_serialize": false,
       "_ngl_version": "",
       "_scene_position": {},
       "_scene_rotation": {},
       "background": "white",
       "count": 101,
       "frame": 0,
       "layout": "IPY_MODEL_31b91051b3ec49cda634bde2e7c0d92f",
       "n_components": 0,
       "picked": {}
      }
     },
     "8e24b4b7e987488193788f311bbbd1d4": {
      "model_module": "@jupyter-widgets/controls",
      "model_module_version": "1.0.0",
      "model_name": "VBoxModel",
      "state": {
       "children": [
        "IPY_MODEL_057a8469d4854abda77edc709739ca6d",
        "IPY_MODEL_4598d04e9e5f4177980ce355c95007e2"
       ],
       "layout": "IPY_MODEL_a00ebdef56f94a2e99f3b224f274a4f1"
      }
     },
     "9399b24089f54498a9e100a5e810ac82": {
      "model_module": "@jupyter-widgets/base",
      "model_module_version": "1.0.0",
      "model_name": "LayoutModel",
      "state": {}
     },
     "952e7c4f72be4ad78e081ef9ca637c2a": {
      "model_module": "@jupyter-widgets/base",
      "model_module_version": "1.0.0",
      "model_name": "LayoutModel",
      "state": {}
     },
     "981cfe953700402498eeec039f102f4a": {
      "model_module": "@jupyter-widgets/base",
      "model_module_version": "1.0.0",
      "model_name": "LayoutModel",
      "state": {}
     },
     "9cbc32d8ba4141a3b1aeae20544d8520": {
      "model_module": "@jupyter-widgets/base",
      "model_module_version": "1.0.0",
      "model_name": "LayoutModel",
      "state": {}
     },
     "9e26a9b8cefa4edd8ad1316037e76303": {
      "model_module": "@jupyter-widgets/base",
      "model_module_version": "1.0.0",
      "model_name": "LayoutModel",
      "state": {}
     },
     "9f9e073074c343dd8b5b37995b65d30a": {
      "model_module": "@jupyter-widgets/controls",
      "model_module_version": "1.0.0",
      "model_name": "HBoxModel",
      "state": {
       "children": [
        "IPY_MODEL_de0e2051dd0c46068cdb8c3903b7d4f5",
        "IPY_MODEL_d2b7ae0272eb4bc1afd3e11566d20589"
       ],
       "layout": "IPY_MODEL_75807289a5e64c8eb4e8179d222dfc8f"
      }
     },
     "9fd08b869f7a4dfda172448bfe845f6c": {
      "model_module": "@jupyter-widgets/base",
      "model_module_version": "1.0.0",
      "model_name": "LayoutModel",
      "state": {
       "border": "solid"
      }
     },
     "a00ebdef56f94a2e99f3b224f274a4f1": {
      "model_module": "@jupyter-widgets/base",
      "model_module_version": "1.0.0",
      "model_name": "LayoutModel",
      "state": {}
     },
     "a0d945adcbde4207a8dfe8d9b9f371e2": {
      "model_module": "@jupyter-widgets/base",
      "model_module_version": "1.0.0",
      "model_name": "LayoutModel",
      "state": {}
     },
     "a0e170719f6c48618e49d034ea1060d0": {
      "model_module": "nglview-js-widgets",
      "model_module_version": "0.5.4-dev.27",
      "model_name": "NGLModel",
      "state": {
       "_camera_orientation": [
        20.345096809765252,
        0,
        0,
        0,
        0,
        20.345096809765252,
        0,
        0,
        0,
        0,
        20.345096809765252,
        0,
        -1.6269999742507935,
        -24.015000343322754,
        -0.9159999787807465,
        1
       ],
       "_camera_str": "orthographic",
       "_image_data": "",
       "_n_dragged_files": 0,
       "_ngl_coordinate_resource": {},
       "_ngl_full_stage_parameters": {
        "ambientColor": 14540253,
        "ambientIntensity": 0.2,
        "backgroundColor": "white",
        "cameraFov": 40,
        "cameraType": "perspective",
        "clipDist": 10,
        "clipFar": 100,
        "clipNear": 0,
        "fogFar": 100,
        "fogNear": 50,
        "hoverTimeout": 0,
        "impostor": true,
        "lightColor": 14540253,
        "lightIntensity": 1,
        "mousePreset": "default",
        "panSpeed": 1,
        "quality": "medium",
        "rotateSpeed": 2,
        "sampleLevel": 0,
        "tooltip": true,
        "workerDefault": true,
        "zoomSpeed": 1.2
       },
       "_ngl_full_stage_parameters_embed": {},
       "_ngl_msg_archive": [],
       "_ngl_original_stage_parameters": {
        "ambientColor": 14540253,
        "ambientIntensity": 0.2,
        "backgroundColor": "white",
        "cameraFov": 40,
        "cameraType": "perspective",
        "clipDist": 10,
        "clipFar": 100,
        "clipNear": 0,
        "fogFar": 100,
        "fogNear": 50,
        "hoverTimeout": 0,
        "impostor": true,
        "lightColor": 14540253,
        "lightIntensity": 1,
        "mousePreset": "default",
        "panSpeed": 1,
        "quality": "medium",
        "rotateSpeed": 2,
        "sampleLevel": 0,
        "tooltip": true,
        "workerDefault": true,
        "zoomSpeed": 1.2
       },
       "_ngl_repr_dict": {
        "0": {
         "0": {
          "params": {
           "aspectRatio": 2,
           "assembly": "default",
           "bondScale": 0.4,
           "bondSpacing": 1,
           "clipCenter": {
            "x": 0,
            "y": 0,
            "z": 0
           },
           "clipNear": 0,
           "clipRadius": 0,
           "colorMode": "hcl",
           "colorReverse": false,
           "colorScale": "",
           "colorScheme": "element",
           "colorValue": 9474192,
           "cylinderOnly": false,
           "defaultAssembly": "",
           "depthWrite": true,
           "diffuse": 16777215,
           "disableImpostor": false,
           "disablePicking": false,
           "flatShaded": false,
           "lazy": false,
           "lineOnly": false,
           "linewidth": 2,
           "matrix": {
            "elements": [
             1,
             0,
             0,
             0,
             0,
             1,
             0,
             0,
             0,
             0,
             1,
             0,
             0,
             0,
             0,
             1
            ]
           },
           "metalness": 0,
           "multipleBond": "off",
           "opacity": 1,
           "openEnded": true,
           "quality": "medium",
           "radialSegments": 10,
           "radius": 0.15,
           "roughness": 0.4,
           "scale": 1,
           "sele": "all",
           "side": "double",
           "sphereDetail": 1,
           "visible": true,
           "wireframe": false
          },
          "type": "ball+stick"
         }
        }
       },
       "_ngl_serialize": false,
       "_ngl_version": "1.0.0-beta.4",
       "_scene_position": {},
       "_scene_rotation": {},
       "background": "white",
       "count": 101,
       "frame": 0,
       "layout": "IPY_MODEL_c3e93c813db24913aee9e7d610ccfe14",
       "n_components": 1,
       "picked": {}
      }
     },
     "a41caba466c94b7e8d8f7061dcc1c7a7": {
      "model_module": "@jupyter-widgets/base",
      "model_module_version": "1.0.0",
      "model_name": "LayoutModel",
      "state": {}
     },
     "a61b2b49969448c0a122dc31812b203c": {
      "model_module": "nglview-js-widgets",
      "model_module_version": "0.5.4-dev.27",
      "model_name": "NGLModel",
      "state": {
       "_camera_orientation": [
        20.24317995028008,
        0,
        0,
        0,
        0,
        20.24317995028008,
        0,
        0,
        0,
        0,
        20.24317995028008,
        0,
        -1.6150000393390656,
        -24.236000061035156,
        -0.6120000183582306,
        1
       ],
       "_camera_str": "orthographic",
       "_image_data": "",
       "_n_dragged_files": 0,
       "_ngl_coordinate_resource": {},
       "_ngl_full_stage_parameters": {
        "ambientColor": 14540253,
        "ambientIntensity": 0.2,
        "backgroundColor": "white",
        "cameraFov": 40,
        "cameraType": "perspective",
        "clipDist": 10,
        "clipFar": 100,
        "clipNear": 0,
        "fogFar": 100,
        "fogNear": 50,
        "hoverTimeout": 0,
        "impostor": true,
        "lightColor": 14540253,
        "lightIntensity": 1,
        "mousePreset": "default",
        "panSpeed": 1,
        "quality": "medium",
        "rotateSpeed": 2,
        "sampleLevel": 0,
        "tooltip": true,
        "workerDefault": true,
        "zoomSpeed": 1.2
       },
       "_ngl_full_stage_parameters_embed": {},
       "_ngl_msg_archive": [],
       "_ngl_original_stage_parameters": {
        "ambientColor": 14540253,
        "ambientIntensity": 0.2,
        "backgroundColor": "white",
        "cameraFov": 40,
        "cameraType": "perspective",
        "clipDist": 10,
        "clipFar": 100,
        "clipNear": 0,
        "fogFar": 100,
        "fogNear": 50,
        "hoverTimeout": 0,
        "impostor": true,
        "lightColor": 14540253,
        "lightIntensity": 1,
        "mousePreset": "default",
        "panSpeed": 1,
        "quality": "medium",
        "rotateSpeed": 2,
        "sampleLevel": 0,
        "tooltip": true,
        "workerDefault": true,
        "zoomSpeed": 1.2
       },
       "_ngl_repr_dict": {
        "0": {
         "0": {
          "params": {
           "aspectRatio": 2,
           "assembly": "default",
           "bondScale": 0.4,
           "bondSpacing": 1,
           "clipCenter": {
            "x": 0,
            "y": 0,
            "z": 0
           },
           "clipNear": 0,
           "clipRadius": 0,
           "colorMode": "hcl",
           "colorReverse": false,
           "colorScale": "",
           "colorScheme": "element",
           "colorValue": 9474192,
           "cylinderOnly": false,
           "defaultAssembly": "",
           "depthWrite": true,
           "diffuse": 16777215,
           "disableImpostor": false,
           "disablePicking": false,
           "flatShaded": false,
           "lazy": false,
           "lineOnly": false,
           "linewidth": 2,
           "matrix": {
            "elements": [
             1,
             0,
             0,
             0,
             0,
             1,
             0,
             0,
             0,
             0,
             1,
             0,
             0,
             0,
             0,
             1
            ]
           },
           "metalness": 0,
           "multipleBond": "off",
           "opacity": 1,
           "openEnded": true,
           "quality": "medium",
           "radialSegments": 10,
           "radius": 0.15,
           "roughness": 0.4,
           "scale": 1,
           "sele": "all",
           "side": "double",
           "sphereDetail": 1,
           "visible": true,
           "wireframe": false
          },
          "type": "ball+stick"
         }
        }
       },
       "_ngl_serialize": false,
       "_ngl_version": "1.0.0-beta.4",
       "_scene_position": {},
       "_scene_rotation": {},
       "background": "white",
       "count": 101,
       "frame": 0,
       "layout": "IPY_MODEL_526cafeb1ce042c1bce2614988570e74",
       "n_components": 1,
       "picked": {}
      }
     },
     "aaee598a144e485cad85e2db0dcc99a0": {
      "model_module": "@jupyter-widgets/controls",
      "model_module_version": "1.0.0",
      "model_name": "ImageModel",
      "state": {
       "layout": "IPY_MODEL_142df587b15c41bf9b90c1c858cf5c9f",
       "value": {},
       "width": "900.0"
      }
     },
     "adaf51e6a3fc417e914db69ac89b336c": {
      "model_module": "jupyter-matplotlib",
      "model_module_version": "^0.0.2",
      "model_name": "MPLCanvasModel",
      "state": {
       "_dom_classes": [],
       "_id": "",
       "_toolbar_items": [
        [
         "Home",
         "Reset original view",
         "fa fa-home icon-home",
         "home"
        ],
        [
         "Back",
         "Back to  previous view",
         "fa fa-arrow-left icon-arrow-left",
         "back"
        ],
        [
         "Forward",
         "Forward to next view",
         "fa fa-arrow-right icon-arrow-right",
         "forward"
        ],
        [
         "",
         "",
         "",
         ""
        ],
        [
         "Pan",
         "Pan axes with left mouse, zoom with right",
         "fa fa-arrows icon-move",
         "pan"
        ],
        [
         "Zoom",
         "Zoom to rectangle",
         "fa fa-square-o icon-check-empty",
         "zoom"
        ],
        [
         "",
         "",
         "",
         ""
        ],
        [
         "Download",
         "Download plot",
         "fa fa-floppy-o icon-save",
         "download"
        ],
        [
         "Export",
         "Export plot",
         "fa fa-file-picture-o icon-picture",
         "export"
        ]
       ],
       "layout": "IPY_MODEL_4e2d7923d0e34c7fbf272cab480aabc7"
      }
     },
     "adcc3be2d57d4f748750a6a3e683d26e": {
      "model_module": "@jupyter-widgets/controls",
      "model_module_version": "1.0.0",
      "model_name": "HBoxModel",
      "state": {
       "children": [
        "IPY_MODEL_a0e170719f6c48618e49d034ea1060d0",
        "IPY_MODEL_25fa5915d3d24a82a6f4ed61ba9bd7e2"
       ],
       "layout": "IPY_MODEL_091aba9a11cc45879ac9e3936cdbf397"
      }
     },
     "b199ab3bb19c47f6825419e9a73f7afe": {
      "model_module": "@jupyter-widgets/base",
      "model_module_version": "1.0.0",
      "model_name": "LayoutModel",
      "state": {}
     },
     "b5bebd1b82d74352a5ec74715925d0ce": {
      "model_module": "@jupyter-widgets/controls",
      "model_module_version": "1.0.0",
      "model_name": "ImageModel",
      "state": {
       "layout": "IPY_MODEL_80c7306fd5394a8180989ee6d1421468",
       "value": {},
       "width": "900.0"
      }
     },
     "b6ac057b617e49a4a490ee59ed74328e": {
      "model_module": "@jupyter-widgets/base",
      "model_module_version": "1.0.0",
      "model_name": "LayoutModel",
      "state": {}
     },
     "b84977b422434764b1c596cb0d78791b": {
      "model_module": "@jupyter-widgets/controls",
      "model_module_version": "1.0.0",
      "model_name": "ImageModel",
      "state": {
       "layout": "IPY_MODEL_ea2bec8bc1ba4d27b1b13f38b06799b7",
       "value": {},
       "width": "900.0"
      }
     },
     "bc01ad74a4cc4f239988a261d2d550b2": {
      "model_module": "@jupyter-widgets/base",
      "model_module_version": "1.0.0",
      "model_name": "LayoutModel",
      "state": {}
     },
     "bd2f9d6498f74a9bbe67da0a7b493466": {
      "model_module": "@jupyter-widgets/controls",
      "model_module_version": "1.0.0",
      "model_name": "ButtonModel",
      "state": {
       "description": "NGL widgets",
       "layout": "IPY_MODEL_7c45ca81b410488dad1921ef9e3cd666",
       "style": "IPY_MODEL_bf0a3c2e2c4843cf88b8805c872ca3b5"
      }
     },
     "bed98b43d9c343dab002b228ba726822": {
      "model_module": "@jupyter-widgets/base",
      "model_module_version": "1.0.0",
      "model_name": "LayoutModel",
      "state": {}
     },
     "bf0a3c2e2c4843cf88b8805c872ca3b5": {
      "model_module": "@jupyter-widgets/controls",
      "model_module_version": "1.0.0",
      "model_name": "ButtonStyleModel",
      "state": {}
     },
     "c08e3c0d48a848048a9eddb863b63b9b": {
      "model_module": "@jupyter-widgets/base",
      "model_module_version": "1.0.0",
      "model_name": "LayoutModel",
      "state": {}
     },
     "c30dcd93e9fc4fc780101d81fc128c10": {
      "model_module": "@jupyter-widgets/base",
      "model_module_version": "1.0.0",
      "model_name": "LayoutModel",
      "state": {}
     },
     "c3e93c813db24913aee9e7d610ccfe14": {
      "model_module": "@jupyter-widgets/base",
      "model_module_version": "1.0.0",
      "model_name": "LayoutModel",
      "state": {}
     },
     "c492ce1d58cd4004a095f6c0aefd7d04": {
      "model_module": "@jupyter-widgets/base",
      "model_module_version": "1.0.0",
      "model_name": "LayoutModel",
      "state": {}
     },
     "c6030751df7c46a2b1ba0b1e303c79cd": {
      "model_module": "jupyter-matplotlib",
      "model_module_version": "^0.0.2",
      "model_name": "MPLCanvasModel",
      "state": {
       "_dom_classes": [],
       "_id": "",
       "_toolbar_items": [
        [
         "Home",
         "Reset original view",
         "fa fa-home icon-home",
         "home"
        ],
        [
         "Back",
         "Back to  previous view",
         "fa fa-arrow-left icon-arrow-left",
         "back"
        ],
        [
         "Forward",
         "Forward to next view",
         "fa fa-arrow-right icon-arrow-right",
         "forward"
        ],
        [
         "",
         "",
         "",
         ""
        ],
        [
         "Pan",
         "Pan axes with left mouse, zoom with right",
         "fa fa-arrows icon-move",
         "pan"
        ],
        [
         "Zoom",
         "Zoom to rectangle",
         "fa fa-square-o icon-check-empty",
         "zoom"
        ],
        [
         "",
         "",
         "",
         ""
        ],
        [
         "Download",
         "Download plot",
         "fa fa-floppy-o icon-save",
         "download"
        ],
        [
         "Export",
         "Export plot",
         "fa fa-file-picture-o icon-picture",
         "export"
        ]
       ],
       "layout": "IPY_MODEL_4224777922c14f31894db65575a86dca"
      }
     },
     "c95ca5fe005344588b3a1100a65530a2": {
      "model_module": "nglview-js-widgets",
      "model_module_version": "0.5.4-dev.27",
      "model_name": "NGLModel",
      "state": {
       "_camera_orientation": [
        23.053436912758006,
        0,
        0,
        0,
        0,
        23.053436912758006,
        0,
        0,
        0,
        0,
        23.053436912758006,
        0,
        -1.7549998760223389,
        -24.3100004196167,
        -0.7849999666213989,
        1
       ],
       "_camera_str": "orthographic",
       "_image_data": "",
       "_n_dragged_files": 0,
       "_ngl_coordinate_resource": {},
       "_ngl_full_stage_parameters": {
        "ambientColor": 14540253,
        "ambientIntensity": 0.2,
        "backgroundColor": "white",
        "cameraFov": 40,
        "cameraType": "perspective",
        "clipDist": 10,
        "clipFar": 100,
        "clipNear": 0,
        "fogFar": 100,
        "fogNear": 50,
        "hoverTimeout": 0,
        "impostor": true,
        "lightColor": 14540253,
        "lightIntensity": 1,
        "mousePreset": "default",
        "panSpeed": 1,
        "quality": "medium",
        "rotateSpeed": 2,
        "sampleLevel": 0,
        "tooltip": true,
        "workerDefault": true,
        "zoomSpeed": 1.2
       },
       "_ngl_full_stage_parameters_embed": {},
       "_ngl_msg_archive": [],
       "_ngl_original_stage_parameters": {
        "ambientColor": 14540253,
        "ambientIntensity": 0.2,
        "backgroundColor": "white",
        "cameraFov": 40,
        "cameraType": "perspective",
        "clipDist": 10,
        "clipFar": 100,
        "clipNear": 0,
        "fogFar": 100,
        "fogNear": 50,
        "hoverTimeout": 0,
        "impostor": true,
        "lightColor": 14540253,
        "lightIntensity": 1,
        "mousePreset": "default",
        "panSpeed": 1,
        "quality": "medium",
        "rotateSpeed": 2,
        "sampleLevel": 0,
        "tooltip": true,
        "workerDefault": true,
        "zoomSpeed": 1.2
       },
       "_ngl_repr_dict": {
        "0": {
         "0": {
          "params": {
           "aspectRatio": 2,
           "assembly": "default",
           "bondScale": 0.4,
           "bondSpacing": 1,
           "clipCenter": {
            "x": 0,
            "y": 0,
            "z": 0
           },
           "clipNear": 0,
           "clipRadius": 0,
           "colorMode": "hcl",
           "colorReverse": false,
           "colorScale": "",
           "colorScheme": "element",
           "colorValue": 9474192,
           "cylinderOnly": false,
           "defaultAssembly": "",
           "depthWrite": true,
           "diffuse": 16777215,
           "disableImpostor": false,
           "disablePicking": false,
           "flatShaded": false,
           "lazy": false,
           "lineOnly": false,
           "linewidth": 2,
           "matrix": {
            "elements": [
             1,
             0,
             0,
             0,
             0,
             1,
             0,
             0,
             0,
             0,
             1,
             0,
             0,
             0,
             0,
             1
            ]
           },
           "metalness": 0,
           "multipleBond": "off",
           "opacity": 1,
           "openEnded": true,
           "quality": "medium",
           "radialSegments": 10,
           "radius": 0.15,
           "roughness": 0.4,
           "scale": 1,
           "sele": "all",
           "side": "double",
           "sphereDetail": 1,
           "visible": true,
           "wireframe": false
          },
          "type": "ball+stick"
         }
        }
       },
       "_ngl_serialize": false,
       "_ngl_version": "1.0.0-beta.4",
       "_scene_position": {},
       "_scene_rotation": {},
       "background": "white",
       "count": 3334,
       "frame": 0,
       "layout": "IPY_MODEL_bed98b43d9c343dab002b228ba726822",
       "n_components": 1,
       "picked": {}
      }
     },
     "ca6b587f4bdf4a31ac25c181de986d10": {
      "model_module": "@jupyter-widgets/base",
      "model_module_version": "1.0.0",
      "model_name": "LayoutModel",
      "state": {}
     },
     "cb2ce9cb14d74e6eba74aa41e3d3902c": {
      "model_module": "@jupyter-widgets/base",
      "model_module_version": "1.0.0",
      "model_name": "LayoutModel",
      "state": {}
     },
     "cbaf382c92d8485892ea4bd1ff093eb7": {
      "model_module": "nglview-js-widgets",
      "model_module_version": "0.5.4-dev.27",
      "model_name": "NGLModel",
      "state": {
       "_camera_orientation": [
        20.16727026960458,
        0,
        0,
        0,
        0,
        20.16727026960458,
        0,
        0,
        0,
        0,
        20.16727026960458,
        0,
        -1.670500010251999,
        -24.258000373840332,
        -0.6459999978542328,
        1
       ],
       "_camera_str": "orthographic",
       "_image_data": "",
       "_n_dragged_files": 0,
       "_ngl_coordinate_resource": {},
       "_ngl_full_stage_parameters": {
        "ambientColor": 14540253,
        "ambientIntensity": 0.2,
        "backgroundColor": "white",
        "cameraFov": 40,
        "cameraType": "perspective",
        "clipDist": 10,
        "clipFar": 100,
        "clipNear": 0,
        "fogFar": 100,
        "fogNear": 50,
        "hoverTimeout": 0,
        "impostor": true,
        "lightColor": 14540253,
        "lightIntensity": 1,
        "mousePreset": "default",
        "panSpeed": 1,
        "quality": "medium",
        "rotateSpeed": 2,
        "sampleLevel": 0,
        "tooltip": true,
        "workerDefault": true,
        "zoomSpeed": 1.2
       },
       "_ngl_full_stage_parameters_embed": {},
       "_ngl_msg_archive": [],
       "_ngl_original_stage_parameters": {
        "ambientColor": 14540253,
        "ambientIntensity": 0.2,
        "backgroundColor": "white",
        "cameraFov": 40,
        "cameraType": "perspective",
        "clipDist": 10,
        "clipFar": 100,
        "clipNear": 0,
        "fogFar": 100,
        "fogNear": 50,
        "hoverTimeout": 0,
        "impostor": true,
        "lightColor": 14540253,
        "lightIntensity": 1,
        "mousePreset": "default",
        "panSpeed": 1,
        "quality": "medium",
        "rotateSpeed": 2,
        "sampleLevel": 0,
        "tooltip": true,
        "workerDefault": true,
        "zoomSpeed": 1.2
       },
       "_ngl_repr_dict": {
        "0": {
         "0": {
          "params": {
           "aspectRatio": 2,
           "assembly": "default",
           "bondScale": 0.4,
           "bondSpacing": 1,
           "clipCenter": {
            "x": 0,
            "y": 0,
            "z": 0
           },
           "clipNear": 0,
           "clipRadius": 0,
           "colorMode": "hcl",
           "colorReverse": false,
           "colorScale": "",
           "colorScheme": "element",
           "colorValue": 9474192,
           "cylinderOnly": false,
           "defaultAssembly": "",
           "depthWrite": true,
           "diffuse": 16777215,
           "disableImpostor": false,
           "disablePicking": false,
           "flatShaded": false,
           "lazy": false,
           "lineOnly": false,
           "linewidth": 2,
           "matrix": {
            "elements": [
             1,
             0,
             0,
             0,
             0,
             1,
             0,
             0,
             0,
             0,
             1,
             0,
             0,
             0,
             0,
             1
            ]
           },
           "metalness": 0,
           "multipleBond": "off",
           "opacity": 1,
           "openEnded": true,
           "quality": "medium",
           "radialSegments": 10,
           "radius": 0.15,
           "roughness": 0.4,
           "scale": 1,
           "sele": "all",
           "side": "double",
           "sphereDetail": 1,
           "visible": true,
           "wireframe": false
          },
          "type": "ball+stick"
         }
        }
       },
       "_ngl_serialize": false,
       "_ngl_version": "1.0.0-beta.4",
       "_scene_position": {},
       "_scene_rotation": {},
       "background": "white",
       "count": 101,
       "frame": 99,
       "layout": "IPY_MODEL_75a01831722d4f60b5ee7e5eeca054b7",
       "n_components": 1,
       "picked": {}
      }
     },
     "cbfb5bb0aa114fce88e90ae57fdd123f": {
      "model_module": "@jupyter-widgets/controls",
      "model_module_version": "1.0.0",
      "model_name": "HBoxModel",
      "state": {
       "children": [
        "IPY_MODEL_8a9d4e5f727846c183272e24d1c9bd7b",
        "IPY_MODEL_880fc32d8fae45ef8c48be9a054db4c4"
       ],
       "layout": "IPY_MODEL_5ce550eaef3f470a9d6e6142a846f97d"
      }
     },
     "d2b7ae0272eb4bc1afd3e11566d20589": {
      "model_module": "jupyter-matplotlib",
      "model_module_version": "^0.0.2",
      "model_name": "MPLCanvasModel",
      "state": {
       "_dom_classes": [],
       "_id": "",
       "_toolbar_items": [
        [
         "Home",
         "Reset original view",
         "fa fa-home icon-home",
         "home"
        ],
        [
         "Back",
         "Back to  previous view",
         "fa fa-arrow-left icon-arrow-left",
         "back"
        ],
        [
         "Forward",
         "Forward to next view",
         "fa fa-arrow-right icon-arrow-right",
         "forward"
        ],
        [
         "",
         "",
         "",
         ""
        ],
        [
         "Pan",
         "Pan axes with left mouse, zoom with right",
         "fa fa-arrows icon-move",
         "pan"
        ],
        [
         "Zoom",
         "Zoom to rectangle",
         "fa fa-square-o icon-check-empty",
         "zoom"
        ],
        [
         "",
         "",
         "",
         ""
        ],
        [
         "Download",
         "Download plot",
         "fa fa-floppy-o icon-save",
         "download"
        ],
        [
         "Export",
         "Export plot",
         "fa fa-file-picture-o icon-picture",
         "export"
        ]
       ],
       "layout": "IPY_MODEL_7311e30372fd4ad99110f011b8adb856"
      }
     },
     "d523002ca8a94346b19d51176c999b2f": {
      "model_module": "@jupyter-widgets/base",
      "model_module_version": "1.0.0",
      "model_name": "LayoutModel",
      "state": {}
     },
     "d5a1720d76c74ef6b4e1d337f268576f": {
      "model_module": "@jupyter-widgets/base",
      "model_module_version": "1.0.0",
      "model_name": "LayoutModel",
      "state": {}
     },
     "d5f60915434a422999c82949b45700a6": {
      "model_module": "jupyter-matplotlib",
      "model_module_version": "^0.0.2",
      "model_name": "MPLCanvasModel",
      "state": {
       "_dom_classes": [],
       "_id": "",
       "_toolbar_items": [
        [
         "Home",
         "Reset original view",
         "fa fa-home icon-home",
         "home"
        ],
        [
         "Back",
         "Back to  previous view",
         "fa fa-arrow-left icon-arrow-left",
         "back"
        ],
        [
         "Forward",
         "Forward to next view",
         "fa fa-arrow-right icon-arrow-right",
         "forward"
        ],
        [
         "",
         "",
         "",
         ""
        ],
        [
         "Pan",
         "Pan axes with left mouse, zoom with right",
         "fa fa-arrows icon-move",
         "pan"
        ],
        [
         "Zoom",
         "Zoom to rectangle",
         "fa fa-square-o icon-check-empty",
         "zoom"
        ],
        [
         "",
         "",
         "",
         ""
        ],
        [
         "Download",
         "Download plot",
         "fa fa-floppy-o icon-save",
         "download"
        ],
        [
         "Export",
         "Export plot",
         "fa fa-file-picture-o icon-picture",
         "export"
        ]
       ],
       "layout": "IPY_MODEL_bc01ad74a4cc4f239988a261d2d550b2"
      }
     },
     "d86f951d40324b92af3c0b2ff48a46a3": {
      "model_module": "@jupyter-widgets/controls",
      "model_module_version": "1.0.0",
      "model_name": "ImageModel",
      "state": {
       "layout": "IPY_MODEL_8ac9a3d696a246d38d7859788311f6f2",
       "value": {},
       "width": "900.0"
      }
     },
     "dc6fbb5ce3d44e6baf4fb3e68232ea8a": {
      "model_module": "jupyter-matplotlib",
      "model_module_version": "^0.0.2",
      "model_name": "MPLCanvasModel",
      "state": {
       "_dom_classes": [],
       "_id": "",
       "_toolbar_items": [
        [
         "Home",
         "Reset original view",
         "fa fa-home icon-home",
         "home"
        ],
        [
         "Back",
         "Back to  previous view",
         "fa fa-arrow-left icon-arrow-left",
         "back"
        ],
        [
         "Forward",
         "Forward to next view",
         "fa fa-arrow-right icon-arrow-right",
         "forward"
        ],
        [
         "",
         "",
         "",
         ""
        ],
        [
         "Pan",
         "Pan axes with left mouse, zoom with right",
         "fa fa-arrows icon-move",
         "pan"
        ],
        [
         "Zoom",
         "Zoom to rectangle",
         "fa fa-square-o icon-check-empty",
         "zoom"
        ],
        [
         "",
         "",
         "",
         ""
        ],
        [
         "Download",
         "Download plot",
         "fa fa-floppy-o icon-save",
         "download"
        ],
        [
         "Export",
         "Export plot",
         "fa fa-file-picture-o icon-picture",
         "export"
        ]
       ],
       "layout": "IPY_MODEL_f9b88113417c423099ee72fa0e4b961f"
      }
     },
     "de0e2051dd0c46068cdb8c3903b7d4f5": {
      "model_module": "nglview-js-widgets",
      "model_module_version": "0.5.4-dev.27",
      "model_name": "NGLModel",
      "state": {
       "_camera_orientation": [
        20.494602250547747,
        0,
        0,
        0,
        0,
        20.494602250547747,
        0,
        0,
        0,
        0,
        20.494602250547747,
        0,
        -1.4594999849796295,
        -24.00349998474121,
        -0.5250000357627869,
        1
       ],
       "_camera_str": "orthographic",
       "_image_data": "",
       "_n_dragged_files": 0,
       "_ngl_coordinate_resource": {},
       "_ngl_full_stage_parameters": {
        "ambientColor": 14540253,
        "ambientIntensity": 0.2,
        "backgroundColor": "white",
        "cameraFov": 40,
        "cameraType": "perspective",
        "clipDist": 10,
        "clipFar": 100,
        "clipNear": 0,
        "fogFar": 100,
        "fogNear": 50,
        "hoverTimeout": 0,
        "impostor": true,
        "lightColor": 14540253,
        "lightIntensity": 1,
        "mousePreset": "default",
        "panSpeed": 1,
        "quality": "medium",
        "rotateSpeed": 2,
        "sampleLevel": 0,
        "tooltip": true,
        "workerDefault": true,
        "zoomSpeed": 1.2
       },
       "_ngl_full_stage_parameters_embed": {},
       "_ngl_msg_archive": [],
       "_ngl_original_stage_parameters": {
        "ambientColor": 14540253,
        "ambientIntensity": 0.2,
        "backgroundColor": "white",
        "cameraFov": 40,
        "cameraType": "perspective",
        "clipDist": 10,
        "clipFar": 100,
        "clipNear": 0,
        "fogFar": 100,
        "fogNear": 50,
        "hoverTimeout": 0,
        "impostor": true,
        "lightColor": 14540253,
        "lightIntensity": 1,
        "mousePreset": "default",
        "panSpeed": 1,
        "quality": "medium",
        "rotateSpeed": 2,
        "sampleLevel": 0,
        "tooltip": true,
        "workerDefault": true,
        "zoomSpeed": 1.2
       },
       "_ngl_repr_dict": {
        "0": {
         "0": {
          "params": {
           "aspectRatio": 2,
           "assembly": "default",
           "bondScale": 0.4,
           "bondSpacing": 1,
           "clipCenter": {
            "x": 0,
            "y": 0,
            "z": 0
           },
           "clipNear": 0,
           "clipRadius": 0,
           "colorMode": "hcl",
           "colorReverse": false,
           "colorScale": "",
           "colorScheme": "element",
           "colorValue": 9474192,
           "cylinderOnly": false,
           "defaultAssembly": "",
           "depthWrite": true,
           "diffuse": 16777215,
           "disableImpostor": false,
           "disablePicking": false,
           "flatShaded": false,
           "lazy": false,
           "lineOnly": false,
           "linewidth": 2,
           "matrix": {
            "elements": [
             1,
             0,
             0,
             0,
             0,
             1,
             0,
             0,
             0,
             0,
             1,
             0,
             0,
             0,
             0,
             1
            ]
           },
           "metalness": 0,
           "multipleBond": "off",
           "opacity": 1,
           "openEnded": true,
           "quality": "medium",
           "radialSegments": 10,
           "radius": 0.15,
           "roughness": 0.4,
           "scale": 1,
           "sele": "all",
           "side": "double",
           "sphereDetail": 1,
           "visible": true,
           "wireframe": false
          },
          "type": "ball+stick"
         }
        }
       },
       "_ngl_serialize": false,
       "_ngl_version": "1.0.0-beta.4",
       "_scene_position": {},
       "_scene_rotation": {},
       "background": "white",
       "count": 101,
       "frame": 0,
       "layout": "IPY_MODEL_8baafb4e8bb64a17b429fd94923253a3",
       "n_components": 1,
       "picked": {}
      }
     },
     "e427834063234005be0f3c41f8f7d04e": {
      "model_module": "@jupyter-widgets/controls",
      "model_module_version": "1.0.0",
      "model_name": "HBoxModel",
      "state": {
       "children": [
        "IPY_MODEL_4b8ff78d08724692bffc261489797bcd",
        "IPY_MODEL_ef29a6fa673747908780bc8e8d877019"
       ],
       "layout": "IPY_MODEL_eabe68947cc9494cba4387ed0fdb84aa"
      }
     },
     "e5ff550df1784bc698a701c5fcad3490": {
      "model_module": "@jupyter-widgets/controls",
      "model_module_version": "1.0.0",
      "model_name": "VBoxModel",
      "state": {
       "children": [
        "IPY_MODEL_67b93a07aeea405daccd6c55cf6ea5ef",
        "IPY_MODEL_69ed4cec545c401b88f9dd9921011751"
       ],
       "layout": "IPY_MODEL_1c056b4b60a6442c918b60951d157199"
      }
     },
     "ea2bec8bc1ba4d27b1b13f38b06799b7": {
      "model_module": "@jupyter-widgets/base",
      "model_module_version": "1.0.0",
      "model_name": "LayoutModel",
      "state": {}
     },
     "eabe68947cc9494cba4387ed0fdb84aa": {
      "model_module": "@jupyter-widgets/base",
      "model_module_version": "1.0.0",
      "model_name": "LayoutModel",
      "state": {}
     },
     "ef29a6fa673747908780bc8e8d877019": {
      "model_module": "jupyter-matplotlib",
      "model_module_version": "^0.0.2",
      "model_name": "MPLCanvasModel",
      "state": {
       "_dom_classes": [],
       "_id": "",
       "_toolbar_items": [
        [
         "Home",
         "Reset original view",
         "fa fa-home icon-home",
         "home"
        ],
        [
         "Back",
         "Back to  previous view",
         "fa fa-arrow-left icon-arrow-left",
         "back"
        ],
        [
         "Forward",
         "Forward to next view",
         "fa fa-arrow-right icon-arrow-right",
         "forward"
        ],
        [
         "",
         "",
         "",
         ""
        ],
        [
         "Pan",
         "Pan axes with left mouse, zoom with right",
         "fa fa-arrows icon-move",
         "pan"
        ],
        [
         "Zoom",
         "Zoom to rectangle",
         "fa fa-square-o icon-check-empty",
         "zoom"
        ],
        [
         "",
         "",
         "",
         ""
        ],
        [
         "Download",
         "Download plot",
         "fa fa-floppy-o icon-save",
         "download"
        ],
        [
         "Export",
         "Export plot",
         "fa fa-file-picture-o icon-picture",
         "export"
        ]
       ],
       "layout": "IPY_MODEL_9cbc32d8ba4141a3b1aeae20544d8520"
      }
     },
     "ef6f87771fbe4759a4fa1ed6a1657388": {
      "model_module": "@jupyter-widgets/base",
      "model_module_version": "1.0.0",
      "model_name": "LayoutModel",
      "state": {}
     },
     "f06c86a748a7412890505f0152d6bd72": {
      "model_module": "@jupyter-widgets/controls",
      "model_module_version": "1.0.0",
      "model_name": "ButtonModel",
      "state": {
       "description": "NGL widgets",
       "layout": "IPY_MODEL_8a2c5b58347043848a48e53894cb7152",
       "style": "IPY_MODEL_6775e7024caa458ea43e223a7fea355a"
      }
     },
     "f9b88113417c423099ee72fa0e4b961f": {
      "model_module": "@jupyter-widgets/base",
      "model_module_version": "1.0.0",
      "model_name": "LayoutModel",
      "state": {}
     },
     "fb9d851ef63e4813bc8dcb22dc7e0f4b": {
      "model_module": "@jupyter-widgets/controls",
      "model_module_version": "1.0.0",
      "model_name": "VBoxModel",
      "state": {
       "children": [
        "IPY_MODEL_f06c86a748a7412890505f0152d6bd72",
        "IPY_MODEL_02f12bd6d6504b0ba027f64e0cfde1b1"
       ],
       "layout": "IPY_MODEL_8931ccd404fc4f4c992e0ecd8b9337cc"
      }
     },
     "fc79888efdac446485d6ae522731d719": {
      "model_module": "@jupyter-widgets/controls",
      "model_module_version": "1.0.0",
      "model_name": "ImageModel",
      "state": {
       "layout": "IPY_MODEL_1850213735f14c1cb59b177e30d1b5ec",
       "value": {},
       "width": "900.0"
      }
     }
    },
    "version_major": 2,
    "version_minor": 0
   }
  }
 },
 "nbformat": 4,
 "nbformat_minor": 1
}
