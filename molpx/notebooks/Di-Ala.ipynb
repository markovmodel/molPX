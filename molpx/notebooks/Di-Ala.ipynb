{
 "cells": [
  {
   "cell_type": "markdown",
   "metadata": {
    "deletable": true,
    "editable": true
   },
   "source": [
    "# molPX Di-Ala example\n",
    "<pre> \n",
    "Guillermo Pérez-Hernández  guille.perez@fu-berlin.de \n",
    "</pre>\n",
    "   \n",
    "In this notebook we will be using a trajectory of Di-Ala-peptide to easily identify conformations in the Ramachandran plot."
   ]
  },
  {
   "cell_type": "code",
   "execution_count": null,
   "metadata": {
    "collapsed": false,
    "deletable": true,
    "editable": true,
    "scrolled": true
   },
   "outputs": [],
   "source": [
    "from os.path import exists\n",
    "import molpx\n",
    "from matplotlib import pylab as plt\n",
    "%matplotlib notebook\n",
    "import pyemma\n",
    "import numpy as np"
   ]
  },
  {
   "cell_type": "markdown",
   "metadata": {
    "deletable": true,
    "editable": true
   },
   "source": [
    "## Start from files on disk"
   ]
  },
  {
   "cell_type": "code",
   "execution_count": null,
   "metadata": {
    "collapsed": true,
    "deletable": true,
    "editable": true
   },
   "outputs": [],
   "source": [
    "top = molpx._molpxdir(join='notebooks/data/ala2.pdb')\n",
    "# What data do we  have?\n",
    "if exists('/group/ag_cmb/scratch/gph82/Di-Ala-nbdata/ala2.dcd'):\n",
    "    MD_trajfiles = ['/group/ag_cmb/scratch/gph82/Di-Ala-nbdata/ala2.dcd'] #long trajectory\n",
    "else:\n",
    "    MD_trajfiles = [molpx._molpxdir(join='notebooks/data/ala2.mini.xtc')] #short trajectory"
   ]
  },
  {
   "cell_type": "markdown",
   "metadata": {
    "deletable": true,
    "editable": true
   },
   "source": [
    "## Featurize to Ramachandran $(\\phi,\\psi)$-pairs with `PyEMMA`"
   ]
  },
  {
   "cell_type": "code",
   "execution_count": null,
   "metadata": {
    "collapsed": false,
    "deletable": true,
    "editable": true
   },
   "outputs": [],
   "source": [
    "feat = pyemma.coordinates.featurizer(top)\n",
    "feat.add_backbone_torsions()\n",
    "src  = pyemma.coordinates.source(MD_trajfiles, features=feat)\n",
    "Y = src.get_output()"
   ]
  },
  {
   "cell_type": "markdown",
   "metadata": {
    "deletable": true,
    "editable": true
   },
   "source": [
    "## Visualize a FES and the molecular structures behind it\n",
    "Execute the following cell and click either on the FES or on the slidebar"
   ]
  },
  {
   "cell_type": "code",
   "execution_count": null,
   "metadata": {
    "collapsed": false,
    "deletable": true,
    "editable": true,
    "scrolled": false
   },
   "outputs": [],
   "source": [
    "ax, fig, iwd, data_sample, geom = molpx.visualize.FES(MD_trajfiles, \n",
    "                                                      top,    \n",
    "                                                      Y,                \n",
    "                                                      #proj_idxs=[1],\n",
    "                                                      nbins=50,\n",
    "                                                      n_overlays=5,\n",
    "                                                      proj_labels=['$\\phi$', \n",
    "                                                                   '$\\psi$'],\n",
    "                                                      atom_selection=\"symbol != H\",     \n",
    "                       \n",
    "                                          )\n",
    "iwd.center_view()\n",
    "iwd.display(gui=True)"
   ]
  },
  {
   "cell_type": "markdown",
   "metadata": {
    "deletable": true,
    "editable": true
   },
   "source": [
    "## Visualize trajectories, FES and molecular structures"
   ]
  },
  {
   "cell_type": "code",
   "execution_count": null,
   "metadata": {
    "collapsed": false,
    "deletable": true,
    "editable": true,
    "scrolled": false
   },
   "outputs": [],
   "source": [
    "__, myfig, iwd, __ = molpx.visualize.traj(MD_trajfiles,     \n",
    "                                          top,                                                                                                                              \n",
    "                                          Y,                                        \n",
    "                                          plot_FES = True,                                        \n",
    "                                          #dt = dt*1e-6, tunits='ms',                                           \n",
    "                                          max_frames=10000,\n",
    "                                          proj_idxs=[0, 1],\n",
    "                                          panel_height=2,    \n",
    "                                          proj_labels=['$\\phi$', '$\\psi$']\n",
    "                          )\n",
    "myfig.tight_layout()\n",
    "iwd.center_view()\n",
    "iwd"
   ]
  },
  {
   "cell_type": "markdown",
   "metadata": {
    "deletable": true,
    "editable": true
   },
   "source": [
    "# Intermediate steps: using molpx to generate a regspace sample of the data\n",
    "See the documentation of `molpx.generate.sample` to find out about all possible options:\n",
    "```\n",
    "molpx.generate.sample(MD_trajectories, MD_top, projected_trajectories, proj_idxs=[0, 1], n_points=100, n_geom_samples=1, keep_all_samples=False, proj_stride=1, verbose=False, return_data=False)\n",
    "```"
   ]
  },
  {
   "cell_type": "code",
   "execution_count": null,
   "metadata": {
    "collapsed": false,
    "deletable": true,
    "editable": true
   },
   "outputs": [],
   "source": [
    "data_sample, geoms = molpx.generate.sample(MD_trajfiles,                                            \n",
    "                                           top, \n",
    "                                           Y,                                            \n",
    "                                           n_points=200   ,\n",
    "                                            n_geom_samples=5,\n",
    "                                           keep_all_samples=True,\n",
    "                                    )\n",
    "data_sample.shape, geoms"
   ]
  },
  {
   "cell_type": "markdown",
   "metadata": {
    "deletable": true,
    "editable": true
   },
   "source": [
    "## Link the PDF plot with the sampled structures and visually explore the FES \n",
    "Click either on the plot or on the widget slidebar: they're connected! "
   ]
  },
  {
   "cell_type": "code",
   "execution_count": null,
   "metadata": {
    "collapsed": false,
    "deletable": true,
    "editable": true,
    "scrolled": false
   },
   "outputs": [],
   "source": [
    "# Replot the FES\n",
    "plt.figure(figsize=(7,7))\n",
    "h, (x,y) = np.histogramdd(np.vstack(Y)[:,:2], bins=50)\n",
    "plt.contourf(x[:-1], y[:-1], -np.log(h.T), alpha=.50)\n",
    "# Create the linked widget\n",
    "linked_wdg = molpx.visualize.sample(data_sample, \n",
    "                              geoms,                      \n",
    "                              plt.gca(), \n",
    "                              clear_lines=True,\n",
    "                              #sticky=True,                              \n",
    "                              \n",
    "                            )\n",
    "linked_wdg.center_view()\n",
    "linked_wdg"
   ]
  },
  {
   "cell_type": "markdown",
   "metadata": {
    "deletable": true,
    "editable": true
   },
   "source": [
    "# Paths samples along the different projections (=axis)"
   ]
  },
  {
   "cell_type": "code",
   "execution_count": null,
   "metadata": {
    "collapsed": false,
    "deletable": true,
    "editable": true
   },
   "outputs": [],
   "source": [
    "paths_dict, idata = molpx.generate.projection_paths(MD_trajfiles, \n",
    "                                                    top, \n",
    "                                                    Y, \n",
    "                                                    n_points=50,\n",
    "                                                    proj_idxs=[0,1],\n",
    "                                                    n_projs=3,\n",
    "                                                    proj_dim = 3, \n",
    "                                                    verbose=False, \n",
    "                                        )"
   ]
  },
  {
   "cell_type": "code",
   "execution_count": null,
   "metadata": {
    "collapsed": false,
    "deletable": true,
    "editable": true
   },
   "outputs": [],
   "source": [
    "# Choose the coordinate and the tyep of path\n",
    "coord = 1\n",
    "path_type = 'min_rmsd'\n",
    "#path_type = 'min_disp'\n",
    "igeom = paths_dict[coord][path_type][\"geom\"]\n",
    "ipath = paths_dict[coord][path_type][\"proj\"]\n",
    "\n",
    "# Choose the proj_idxs for the path and the FES \n",
    "# to be shown\n",
    "proj_idxs = [0,1]"
   ]
  },
  {
   "cell_type": "code",
   "execution_count": null,
   "metadata": {
    "collapsed": false,
    "deletable": true,
    "editable": true,
    "scrolled": false
   },
   "outputs": [],
   "source": [
    "plt.figure(figsize=(7,7))\n",
    "h, (x,y) = np.histogramdd(np.vstack(Y)[:,proj_idxs], bins=50)\n",
    "plt.contourf(x[:-1], y[:-1], -np.log(h.T), alpha=.50)\n",
    "\n",
    "linked_wdg = molpx.visualize.sample(ipath[:,proj_idxs], \n",
    "                                    igeom,                             \n",
    "                                    plt.gca(), \n",
    "                                    clear_lines=True,\n",
    "                                    n_smooth = 2, \n",
    "                                    plot_path=True,                                                            \n",
    "                                    #radius=True,\n",
    "                            )\n",
    "iwd.center_view()\n",
    "linked_wdg"
   ]
  },
  {
   "cell_type": "markdown",
   "metadata": {
    "collapsed": true,
    "deletable": true,
    "editable": true
   },
   "source": [
    "# Let's do TICA and try to look a the correlations in a TICA analysis"
   ]
  },
  {
   "cell_type": "code",
   "execution_count": null,
   "metadata": {
    "collapsed": false,
    "deletable": true,
    "editable": true
   },
   "outputs": [],
   "source": [
    "feat = pyemma.coordinates.featurizer(top)\n",
    "#feat.add_backbone_torsions(cossin=True)\n",
    "feat.add_distances(feat.topology.select('symbol != H'))\n",
    "src  = pyemma.coordinates.source(MD_trajfiles, features=feat)\n",
    "tica = pyemma.coordinates.tica(src, lag=10)\n",
    "Y_tica = tica.get_output()"
   ]
  },
  {
   "cell_type": "code",
   "execution_count": null,
   "metadata": {
    "collapsed": false,
    "deletable": true,
    "editable": true
   },
   "outputs": [],
   "source": [
    "ax, fig, iwd, data_sample, geom = molpx.visualize.FES(MD_trajfiles, \n",
    "                                                      top,                                                       \n",
    "                                                      Y_tica,                                                       \n",
    "                                                      n_overlays=5,\n",
    "                                                      sticky=True,\n",
    "                                          )\n",
    "iwd.center_view()\n",
    "iwd.display(gui=True)"
   ]
  },
  {
   "cell_type": "code",
   "execution_count": null,
   "metadata": {
    "collapsed": false,
    "deletable": true,
    "editable": true
   },
   "outputs": [],
   "source": [
    "__, myfig, iwd, __ = molpx.visualize.traj(MD_trajfiles,     \n",
    "                                          top,                                                                                                                              \n",
    "                                          Y_tica,                                        \n",
    "                                          plot_FES = True,                                        \n",
    "                                          #dt = dt*1e-6, tunits='ms',                                           \n",
    "                                          max_frames=10000,\n",
    "                                          #proj_idxs=[0,1],\n",
    "                                          panel_height=2,                                              \n",
    "                                          projection=tica\n",
    "                          )\n",
    "myfig.tight_layout()\n",
    "iwd.center_view()\n",
    "iwd"
   ]
  },
  {
   "cell_type": "code",
   "execution_count": null,
   "metadata": {
    "collapsed": true,
    "deletable": true,
    "editable": true
   },
   "outputs": [],
   "source": [
    "paths_dict, idata = molpx.generate.projection_paths(MD_trajfiles, \n",
    "                                                    top, \n",
    "                                                    Y_tica, \n",
    "                                                    n_points=50,\n",
    "                                                    proj_idxs=[0,1],\n",
    "                                                    n_projs=2,\n",
    "                                                    proj_dim = 2, \n",
    "                                                    verbose=False, \n",
    "                                        )"
   ]
  },
  {
   "cell_type": "code",
   "execution_count": null,
   "metadata": {
    "collapsed": true,
    "deletable": true,
    "editable": true
   },
   "outputs": [],
   "source": [
    "# Choose the coordinate and the type of path\n",
    "coord = 0\n",
    "path_type = 'min_rmsd'\n",
    "#path_type = 'min_disp'\n",
    "igeom = paths_dict[coord][path_type][\"geom\"]\n",
    "ipath = paths_dict[coord][path_type][\"proj\"]\n",
    "\n",
    "# Choose the proj_idxs for the path and the FES \n",
    "# to be shown\n",
    "proj_idxs = [0,1]"
   ]
  },
  {
   "cell_type": "code",
   "execution_count": null,
   "metadata": {
    "collapsed": false,
    "deletable": true,
    "editable": true
   },
   "outputs": [],
   "source": [
    "plt.figure(figsize=(7,7))\n",
    "h, (x,y) = np.histogramdd(np.vstack(Y_tica)[:,proj_idxs], bins=50)\n",
    "plt.contourf(x[:-1], y[:-1], -np.log(h.T), alpha=.50)\n",
    "\n",
    "linked_wdg = molpx.visualize.sample(ipath[:,proj_idxs], \n",
    "                                    igeom,\n",
    "                                    plt.gca(), \n",
    "                                    clear_lines=True,\n",
    "                                    n_smooth = 1, \n",
    "                                    plot_path=True,   \n",
    "                                   )\n",
    "# You can even choose to add the correlations a posteriori                                         \n",
    "molpx.visualize.correlations(tica, widget=linked_wdg, proj_idxs=0)\n",
    "linked_wdg.center_view()\n",
    "linked_wdg"
   ]
  },
  {
   "cell_type": "code",
   "execution_count": null,
   "metadata": {
    "collapsed": true
   },
   "outputs": [],
   "source": []
  }
 ],
 "metadata": {
  "anaconda-cloud": {},
  "kernelspec": {
   "display_name": "Python 3",
   "language": "python",
   "name": "python3"
  },
  "language_info": {
   "codemirror_mode": {
    "name": "ipython",
    "version": 3
   },
   "file_extension": ".py",
   "mimetype": "text/x-python",
   "name": "python",
   "nbconvert_exporter": "python",
   "pygments_lexer": "ipython3",
   "version": "3.4.5"
  },
  "widgets": {
   "state": {
    "00f486a2d1d34ce2b76acb0b84b13bf8": {
     "views": [
      {
       "cell_index": 8
      }
     ]
    },
    "080aee9ea3c143819d1953d61d854cf4": {
     "views": [
      {
       "cell_index": 8
      }
     ]
    },
    "0bede23c77014f228b5b9b46056532cf": {
     "views": [
      {
       "cell_index": 9
      }
     ]
    },
    "0c7b906523d747b8ac701ffa3a386501": {
     "views": [
      {
       "cell_index": 8
      }
     ]
    },
    "0c8533f531924dc6831dbd7b9b583a20": {
     "views": [
      {
       "cell_index": 8
      }
     ]
    },
    "0dad4685a857455a9b6374598de387f9": {
     "views": [
      {
       "cell_index": 8
      }
     ]
    },
    "1528a0830fd942f4b573d8fd1f773427": {
     "views": [
      {
       "cell_index": 7
      }
     ]
    },
    "15944037cbbc4692a13ea49183d96b21": {
     "views": [
      {
       "cell_index": 7
      }
     ]
    },
    "1b8fcbf4a5164279a9ea6cc3d6de2c21": {
     "views": [
      {
       "cell_index": 7
      }
     ]
    },
    "1c909d3687c2426eb38cdbd7948ccd97": {
     "views": [
      {
       "cell_index": 8
      }
     ]
    },
    "25436648ef5e4b68ae5813e3da0d92fe": {
     "views": [
      {
       "cell_index": 20
      }
     ]
    },
    "2832ec04362547e28fecd5e165362f33": {
     "views": [
      {
       "cell_index": 8
      }
     ]
    },
    "286cb23c3c484dccb4f6a80d89a590ef": {
     "views": [
      {
       "cell_index": 7
      }
     ]
    },
    "296e33421f4b4a578a937f6c3d1b28fc": {
     "views": [
      {
       "cell_index": 8
      }
     ]
    },
    "29d4bc5342e3462ab94985067c604a99": {
     "views": [
      {
       "cell_index": 8
      }
     ]
    },
    "2ff6764c1b8a4da5a937174ed77ae7f9": {
     "views": [
      {
       "cell_index": 8
      }
     ]
    },
    "31ae8c5b7c64475ab67f5ec26750cb1b": {
     "views": [
      {
       "cell_index": 8
      }
     ]
    },
    "3238dfafb1c64426bbf71c737d21f514": {
     "views": [
      {
       "cell_index": 8
      }
     ]
    },
    "36c05d9ef4a24f6686e4010e1bb5d176": {
     "views": [
      {
       "cell_index": 7
      }
     ]
    },
    "4720de33ef48495e963fdb67e0d5d026": {
     "views": [
      {
       "cell_index": 20
      }
     ]
    },
    "4bad2c7824624394b97d6686b4d31594": {
     "views": [
      {
       "cell_index": 9
      }
     ]
    },
    "4df991bbcdc54926ac751ec32bb6513d": {
     "views": [
      {
       "cell_index": 7
      }
     ]
    },
    "5326dda241ae42d69bac9deeac32bcfa": {
     "views": [
      {
       "cell_index": 8
      }
     ]
    },
    "532798a4a0fc4b738b7ae96ced66b025": {
     "views": [
      {
       "cell_index": 7
      }
     ]
    },
    "5786da3eef254503b80cf1e8fdcc0153": {
     "views": [
      {
       "cell_index": 7
      }
     ]
    },
    "58bd8becf1d744fdaa65d26e2ea9efdd": {
     "views": [
      {
       "cell_index": 7
      }
     ]
    },
    "5e45bf78195647dd95fcea1013f14334": {
     "views": [
      {
       "cell_index": 8
      }
     ]
    },
    "5e61f107af304533a037e68bce5cc4e2": {
     "views": [
      {
       "cell_index": 8
      }
     ]
    },
    "6595195b421d4d0a89f44df7a3e9997e": {
     "views": [
      {
       "cell_index": 9
      }
     ]
    },
    "69c8255e1bad44d383554f80765fd724": {
     "views": [
      {
       "cell_index": 7
      }
     ]
    },
    "74106dce3e7843949b68cd981f27a6ea": {
     "views": [
      {
       "cell_index": 8
      }
     ]
    },
    "74c8407817694b4488b2b1dd1e85bd63": {
     "views": [
      {
       "cell_index": 7
      }
     ]
    },
    "7d8b65d75a5441449c3d569eda6cd460": {
     "views": [
      {
       "cell_index": 20
      }
     ]
    },
    "7ddf47f6e9b842bda93b553b2b938d3a": {
     "views": [
      {
       "cell_index": 7
      }
     ]
    },
    "800d20103bd642838e95f89d35b74b1e": {
     "views": [
      {
       "cell_index": 20
      }
     ]
    },
    "834dd8b334674aa1aa5974bf46a823ce": {
     "views": [
      {
       "cell_index": 8
      }
     ]
    },
    "834e93cb97814a4894ab095a74a2e1ac": {
     "views": [
      {
       "cell_index": 8
      }
     ]
    },
    "83ac18643b2e4c178931d249eeb79d79": {
     "views": [
      {
       "cell_index": 7
      }
     ]
    },
    "868191f9b5cb441484703bc01dd87fcb": {
     "views": [
      {
       "cell_index": 8
      }
     ]
    },
    "8827c0756504498c8172dfa061b7aeb9": {
     "views": [
      {
       "cell_index": 8
      }
     ]
    },
    "885981b86eec4d109f37ed425df6343f": {
     "views": [
      {
       "cell_index": 8
      }
     ]
    },
    "89e11694810b45ef94c00c96dcc84209": {
     "views": [
      {
       "cell_index": 8
      }
     ]
    },
    "8ae35355973d47878b91d7242d81cc4d": {
     "views": [
      {
       "cell_index": 7
      }
     ]
    },
    "8de0cf961b2d40cfb882e875218f54c1": {
     "views": [
      {
       "cell_index": 8
      }
     ]
    },
    "8f65d374c6a6473a9ec551f3eab61494": {
     "views": [
      {
       "cell_index": 8
      }
     ]
    },
    "8fab2dc9019649afaba17c02122597fd": {
     "views": [
      {
       "cell_index": 7
      }
     ]
    },
    "943d85f546514c859ed9b755298f0475": {
     "views": [
      {
       "cell_index": 7
      }
     ]
    },
    "9a1ddc5c69c34efc9a5aff07c9d84c8c": {
     "views": [
      {
       "cell_index": 8
      }
     ]
    },
    "9ba562d7d1574c15a485036c8a6f4127": {
     "views": [
      {
       "cell_index": 8
      }
     ]
    },
    "9d16383305c34ea5b6e61eb171e7e0d2": {
     "views": [
      {
       "cell_index": 7
      }
     ]
    },
    "9e251397725849fe81d3c934a88b33be": {
     "views": [
      {
       "cell_index": 8
      }
     ]
    },
    "a224cdc1a45a41e6984be2466b3ba647": {
     "views": [
      {
       "cell_index": 7
      }
     ]
    },
    "a419e6a1f9ed4fa98252fddce53ab1ff": {
     "views": [
      {
       "cell_index": 8
      }
     ]
    },
    "a576427e4bfa43f6b4a5f77cd3536201": {
     "views": [
      {
       "cell_index": 7
      }
     ]
    },
    "a737c75a9f3740348d4c0b1df57845ae": {
     "views": [
      {
       "cell_index": 7
      }
     ]
    },
    "ac908221956648cb987538b9ce0c34c9": {
     "views": [
      {
       "cell_index": 7
      }
     ]
    },
    "ae2858117eb941c0b1a94bd9d9d5fdc7": {
     "views": [
      {
       "cell_index": 9
      }
     ]
    },
    "ae52ac7c26a84c00bfb78da844a6ead1": {
     "views": [
      {
       "cell_index": 8
      }
     ]
    },
    "b0652a0c8e27492fa69fd0a596d47c64": {
     "views": [
      {
       "cell_index": 8
      }
     ]
    },
    "b099ac7c022b479093a3193207dfd714": {
     "views": [
      {
       "cell_index": 9
      }
     ]
    },
    "b1503fbf8c264285a9065ca65c9e2400": {
     "views": [
      {
       "cell_index": 7
      }
     ]
    },
    "b31fdff1a8474e0eb9ef93313d25143f": {
     "views": [
      {
       "cell_index": 8
      }
     ]
    },
    "b3a130598fd145a6a4e525737433fe5b": {
     "views": [
      {
       "cell_index": 7
      }
     ]
    },
    "b453945cf9a44a04acfdf3003b903487": {
     "views": [
      {
       "cell_index": 8
      }
     ]
    },
    "b68bfbb87174450fbb27b7ee5dfb795f": {
     "views": [
      {
       "cell_index": 8
      }
     ]
    },
    "bde06eaf93e14faea8806c8f148fdc62": {
     "views": [
      {
       "cell_index": 7
      }
     ]
    },
    "be497ca2f730484aba12b8626f5a069a": {
     "views": [
      {
       "cell_index": 7
      }
     ]
    },
    "be886fb0484e4e6f9cc90d28a9b68c91": {
     "views": [
      {
       "cell_index": 8
      }
     ]
    },
    "c24b59c4df4f4dc0a8f036e2e088b66c": {
     "views": [
      {
       "cell_index": 20
      }
     ]
    },
    "c41262f95dfa4b3da67ecf28e27ee539": {
     "views": [
      {
       "cell_index": 8
      }
     ]
    },
    "c98c5afffa97416c8fb7823dd5cc7942": {
     "views": [
      {
       "cell_index": 8
      }
     ]
    },
    "cb2fa6e645134c8eb49c1c5f3795ecc3": {
     "views": [
      {
       "cell_index": 8
      }
     ]
    },
    "cd15ae305d364e1fa00fccd20baa9551": {
     "views": [
      {
       "cell_index": 7
      }
     ]
    },
    "d04119df33a84f7ba69913635d6be8a0": {
     "views": [
      {
       "cell_index": 7
      }
     ]
    },
    "dbf4a7b561f44bcf9733d7a6d78618cb": {
     "views": [
      {
       "cell_index": 20
      }
     ]
    },
    "dccbac803ca24a69b32e665c972ebffc": {
     "views": [
      {
       "cell_index": 7
      }
     ]
    },
    "dccd246e3a6e4c6c96550b64b5255dcc": {
     "views": [
      {
       "cell_index": 7
      }
     ]
    },
    "de97bac90e3d45f59982dbb1c626dbef": {
     "views": [
      {
       "cell_index": 7
      }
     ]
    },
    "e04e62f5b5104a58ac1fbeac3501de6a": {
     "views": [
      {
       "cell_index": 7
      }
     ]
    },
    "e407257a9c7a49a497bc5c8eb17baf47": {
     "views": [
      {
       "cell_index": 20
      }
     ]
    },
    "e444eadffb2048e7b8bb38c21bbf265f": {
     "views": [
      {
       "cell_index": 7
      }
     ]
    },
    "e7f603412837441ea9557d13ff57e1e3": {
     "views": [
      {
       "cell_index": 8
      }
     ]
    },
    "ea5c7f08bc3d424da7306bcabf5376d2": {
     "views": [
      {
       "cell_index": 8
      }
     ]
    },
    "eb9d53dee0ba4d37ad9646a7d8757d39": {
     "views": [
      {
       "cell_index": 8
      }
     ]
    },
    "f3e2571f08cc4ec2bdc089972a0ab7cb": {
     "views": [
      {
       "cell_index": 7
      }
     ]
    },
    "f42a51a4b7f34f1195e4adfab03cc177": {
     "views": [
      {
       "cell_index": 8
      }
     ]
    },
    "f44c0fccbb1f4014809b4acc783c394b": {
     "views": [
      {
       "cell_index": 7
      }
     ]
    },
    "f4bf90f05d754c6ab2bfb2089abcf64a": {
     "views": [
      {
       "cell_index": 8
      }
     ]
    },
    "f9592405997c4bacad5e4e0e329356c4": {
     "views": [
      {
       "cell_index": 8
      }
     ]
    }
   },
   "version": "1.2.0"
  }
 },
 "nbformat": 4,
 "nbformat_minor": 0
}
